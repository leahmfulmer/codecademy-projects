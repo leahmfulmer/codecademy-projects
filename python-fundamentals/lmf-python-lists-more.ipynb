{
 "cells": [
  {
   "cell_type": "markdown",
   "metadata": {},
   "source": [
    "# Working with Python Lists: Medical Insurance Costs Project"
   ]
  },
  {
   "cell_type": "markdown",
   "metadata": {},
   "source": [
    "You are a doctor sorting through medical insurance cost data for some patients.\n",
    "\n",
    "Using your knowledge of Python lists, you will store medical data and see what valuable insights you can gain from that data.\n",
    "\n",
    "Let's get started!"
   ]
  },
  {
   "cell_type": "markdown",
   "metadata": {},
   "source": [
    "## Exploring List Data"
   ]
  },
  {
   "cell_type": "markdown",
   "metadata": {},
   "source": [
    "1. First, take a look at the two lists in the code block below.\n",
    "\n",
    "   The list `names` stores the names of ten individuals, and `insurance_costs` stores their medical insurance costs.\n",
    "   \n",
    "   Let's add additional data to these lists:\n",
    "   - Append a new individual, `\"Priscilla\"`, to `names`.\n",
    "   - Append her insurance cost, `8320.0` to `insurance_costs`."
   ]
  },
  {
   "cell_type": "code",
   "execution_count": 1,
   "metadata": {},
   "outputs": [
    {
     "name": "stdout",
     "output_type": "stream",
     "text": [
      "['Mohamed', 'Sara', 'Xia', 'Paul', 'Valentina', 'Jide', 'Aaron', 'Emily', 'Nikita', 'Paul', 'Priscilla'] [13262.0, 4816.0, 6839.0, 5054.0, 14724.0, 5360.0, 7640.0, 6072.0, 2750.0, 12064.0, 8320.0]\n"
     ]
    }
   ],
   "source": [
    "names = [\"Mohamed\", \"Sara\", \"Xia\", \"Paul\", \"Valentina\", \"Jide\", \"Aaron\", \"Emily\", \"Nikita\", \"Paul\"]\n",
    "insurance_costs = [13262.0, 4816.0, 6839.0, 5054.0, 14724.0, 5360.0, 7640.0, 6072.0, 2750.0, 12064.0]\n",
    "\n",
    "names.append(\"Priscilla\")\n",
    "insurance_costs.append(8320.0)\n",
    "print(names, insurance_costs)"
   ]
  },
  {
   "cell_type": "markdown",
   "metadata": {},
   "source": [
    "2. Currently, the `names` and `insurance_costs` lists are separate, but we want each insurance cost to be paired with a name.\n",
    "\n",
    "   Create a new variable called `medical_records` that combines `insurance_costs` and `names` into a list using the `zip()` function.\n",
    "   \n",
    "   The list should have the following structure:\n",
    "   \n",
    "   ```py\n",
    "   [(cost_0, name_0), (cost_1, name_1), (cost_2, name_2), ...]\n",
    "   ```"
   ]
  },
  {
   "cell_type": "code",
   "execution_count": 5,
   "metadata": {},
   "outputs": [],
   "source": [
    "medical_records = list(zip(insurance_costs, names))"
   ]
  },
  {
   "cell_type": "markdown",
   "metadata": {},
   "source": [
    "3. Print out `medical_records` below, and make sure the output is what you expected."
   ]
  },
  {
   "cell_type": "code",
   "execution_count": 6,
   "metadata": {},
   "outputs": [
    {
     "name": "stdout",
     "output_type": "stream",
     "text": [
      "[(13262.0, 'Mohamed'), (4816.0, 'Sara'), (6839.0, 'Xia'), (5054.0, 'Paul'), (14724.0, 'Valentina'), (5360.0, 'Jide'), (7640.0, 'Aaron'), (6072.0, 'Emily'), (2750.0, 'Nikita'), (12064.0, 'Paul'), (8320.0, 'Priscilla')]\n"
     ]
    }
   ],
   "source": [
    "print(medical_records)"
   ]
  },
  {
   "cell_type": "markdown",
   "metadata": {},
   "source": [
    "4. Let's explore our medical data.\n",
    "\n",
    "   We want to see how many medical records we are dealing with. Create a variable called `num_medical_records` that stores the length of `medical_records`."
   ]
  },
  {
   "cell_type": "code",
   "execution_count": 7,
   "metadata": {},
   "outputs": [],
   "source": [
    "num_medical_records = len(medical_records)"
   ]
  },
  {
   "cell_type": "markdown",
   "metadata": {},
   "source": [
    "5. Print `num_medical_records` with the following message:\n",
    "\n",
    "   ```\n",
    "   There are {number of medical records} medical records.\n",
    "   ```"
   ]
  },
  {
   "cell_type": "code",
   "execution_count": 8,
   "metadata": {},
   "outputs": [
    {
     "name": "stdout",
     "output_type": "stream",
     "text": [
      "There are 11 medical records.\n"
     ]
    }
   ],
   "source": [
    "print(\"There are \"+str(num_medical_records)+\" medical records.\")"
   ]
  },
  {
   "cell_type": "markdown",
   "metadata": {},
   "source": [
    "## Selecting List Elements"
   ]
  },
  {
   "cell_type": "markdown",
   "metadata": {},
   "source": [
    "6. Select the first medical record in `medical_records`, and save it to a variable called `first_medical_record`."
   ]
  },
  {
   "cell_type": "code",
   "execution_count": 9,
   "metadata": {},
   "outputs": [],
   "source": [
    "first_medical_record = medical_records[0]"
   ]
  },
  {
   "cell_type": "markdown",
   "metadata": {},
   "source": [
    "7. Print `first_medical_record` with the following message:\n",
    "\n",
    "   ```\n",
    "   Here is the first medical record: {first medical record}\n",
    "   ```"
   ]
  },
  {
   "cell_type": "code",
   "execution_count": 11,
   "metadata": {},
   "outputs": [
    {
     "name": "stdout",
     "output_type": "stream",
     "text": [
      "Here is the first medical record: (13262.0, 'Mohamed')\n"
     ]
    }
   ],
   "source": [
    "print(\"Here is the first medical record: \"+str(first_medical_record))"
   ]
  },
  {
   "cell_type": "markdown",
   "metadata": {},
   "source": [
    "## Sorting Lists"
   ]
  },
  {
   "cell_type": "markdown",
   "metadata": {},
   "source": [
    "8. Sort `medical_records` so that the individuals with the lowest insurance costs appear at the start of the list.\n",
    "\n",
    "   Print the sorted `medical_records` with the following message:\n",
    "   \n",
    "   ```\n",
    "   Here are the medical records sorted by insurance cost: {sorted list}\n",
    "   ```"
   ]
  },
  {
   "cell_type": "code",
   "execution_count": 12,
   "metadata": {},
   "outputs": [
    {
     "name": "stdout",
     "output_type": "stream",
     "text": [
      "Here are the medical records sorted by insurance cost: [(2750.0, 'Nikita'), (4816.0, 'Sara'), (5054.0, 'Paul'), (5360.0, 'Jide'), (6072.0, 'Emily'), (6839.0, 'Xia'), (7640.0, 'Aaron'), (8320.0, 'Priscilla'), (12064.0, 'Paul'), (13262.0, 'Mohamed'), (14724.0, 'Valentina')]\n"
     ]
    }
   ],
   "source": [
    "medical_records.sort()\n",
    "print(\"Here are the medical records sorted by insurance cost: \"+str(medical_records))"
   ]
  },
  {
   "cell_type": "markdown",
   "metadata": {},
   "source": [
    "## Slicing Lists"
   ]
  },
  {
   "cell_type": "markdown",
   "metadata": {},
   "source": [
    "9. Let's look at the three cheapest insurance costs in our medical records.\n",
    "\n",
    "   Slice the `medical_records` list, and store the three cheapest insurance costs in a list called `cheapest_three`."
   ]
  },
  {
   "cell_type": "code",
   "execution_count": 15,
   "metadata": {},
   "outputs": [],
   "source": [
    "cheapest_three = medical_records[:3]"
   ]
  },
  {
   "cell_type": "markdown",
   "metadata": {},
   "source": [
    "10. Print `cheapest_three` with the following message:\n",
    "\n",
    "    ```py\n",
    "    Here are the three cheapest insurance costs in our medical records: {cheapest three}\n",
    "    ```"
   ]
  },
  {
   "cell_type": "code",
   "execution_count": 16,
   "metadata": {},
   "outputs": [
    {
     "name": "stdout",
     "output_type": "stream",
     "text": [
      "Here are the three cheapest insurance costs in our medical records: [(2750.0, 'Nikita'), (4816.0, 'Sara'), (5054.0, 'Paul')]\n"
     ]
    }
   ],
   "source": [
    "print(\"Here are the three cheapest insurance costs in our medical records: \"+str(cheapest_three))"
   ]
  },
  {
   "cell_type": "markdown",
   "metadata": {},
   "source": [
    "11. Let's look at the three most expensive insurance costs in our medical records.\n",
    "\n",
    "    Slice the `medical_records` list, and store the three most expensive insurance costs in a list called `priciest_three`."
   ]
  },
  {
   "cell_type": "code",
   "execution_count": 17,
   "metadata": {},
   "outputs": [],
   "source": [
    "priciest_three = medical_records[-3:]"
   ]
  },
  {
   "cell_type": "markdown",
   "metadata": {},
   "source": [
    "12. Print `priciest_three` with the following message:\n",
    "\n",
    "    ```\n",
    "    Here are the three most expensive insurance costs in our medical records: {priciest three}\n",
    "    ```"
   ]
  },
  {
   "cell_type": "code",
   "execution_count": 18,
   "metadata": {},
   "outputs": [
    {
     "name": "stdout",
     "output_type": "stream",
     "text": [
      "Here are the three most expensive insurance costs in our medical records: [(12064.0, 'Paul'), (13262.0, 'Mohamed'), (14724.0, 'Valentina')]\n"
     ]
    }
   ],
   "source": [
    "print(\"Here are the three most expensive insurance costs in our medical records: \"+str(priciest_three))"
   ]
  },
  {
   "cell_type": "markdown",
   "metadata": {},
   "source": [
    "## Counting Elements in a List"
   ]
  },
  {
   "cell_type": "markdown",
   "metadata": {},
   "source": [
    "13. Some individuals in our medical records have the same name. For example, the name \"Paul\" shows up twice.\n",
    "\n",
    "    Count the number of occurrences of \"Paul\" in the `names` list, and store the result in a variable called `occurrences_paul`.\n",
    "    \n",
    "    Print `occurrences_paul` with the following message:\n",
    "    \n",
    "    ```\n",
    "    There are {occurrences Paul} individuals with the name Paul in our medical records.\n",
    "    ```"
   ]
  },
  {
   "cell_type": "code",
   "execution_count": 22,
   "metadata": {},
   "outputs": [
    {
     "name": "stdout",
     "output_type": "stream",
     "text": [
      "There are 2 individuals with the name Paul in our medical records.\n"
     ]
    }
   ],
   "source": [
    "occurrences_paul = names.count(\"Paul\")\n",
    "print(\"There are \"+str(occurrences_paul)+\" individuals with the name Paul in our medical records.\")"
   ]
  },
  {
   "cell_type": "markdown",
   "metadata": {},
   "source": [
    "## Extra"
   ]
  },
  {
   "cell_type": "markdown",
   "metadata": {},
   "source": [
    "14. Great job! In this project, you worked with Python lists to store medical insurance cost data and then gained meaningful insight into that data.\n",
    "\n",
    "    You now have a better understanding of how to interact with data in lists - an important skill for a data scientist to have.\n",
    "    \n",
    "    Our dataset in this project was pretty small - we only dealt with 11 medical records. However, as you progress in your data science journey, you will encounter larger and more complex datasets. You are now better prepared to work with data in lists moving forward.\n",
    "    \n",
    "    If you'd like additional practice on lists, here are some ways you might extend this project:\n",
    "    - Sort the medical records alphabetically by name. You'll have to create a new list using `zip()` to do this.\n",
    "    - Select the medical records starting at index `3` and ending at index `7` and save it to a variable called `middle_five_records`.\n",
    "    \n",
    "    Happy coding!"
   ]
  },
  {
   "cell_type": "code",
   "execution_count": 24,
   "metadata": {},
   "outputs": [
    {
     "name": "stdout",
     "output_type": "stream",
     "text": [
      "Here are the records sorted by name: [('Aaron', 7640.0), ('Emily', 6072.0), ('Jide', 5360.0), ('Mohamed', 13262.0), ('Nikita', 2750.0), ('Paul', 5054.0), ('Paul', 12064.0), ('Priscilla', 8320.0), ('Sara', 4816.0), ('Valentina', 14724.0), ('Xia', 6839.0)]\n"
     ]
    }
   ],
   "source": [
    "new_list = sorted(list(zip(names, insurance_costs)))\n",
    "print(\"Here are the records sorted by name: \"+str(new_list))"
   ]
  },
  {
   "cell_type": "code",
   "execution_count": 25,
   "metadata": {},
   "outputs": [
    {
     "name": "stdout",
     "output_type": "stream",
     "text": [
      "[(5360.0, 'Jide'), (6072.0, 'Emily'), (6839.0, 'Xia'), (7640.0, 'Aaron'), (8320.0, 'Priscilla')]\n"
     ]
    }
   ],
   "source": [
    "middle_five_records = medical_records[3:8]\n",
    "print(middle_five_records)"
   ]
  },
  {
   "cell_type": "code",
   "execution_count": null,
   "metadata": {},
   "outputs": [],
   "source": []
  }
 ],
 "metadata": {
  "kernelspec": {
   "display_name": "./anaconda3/share/jupyter/kernels/python3/",
   "language": "python",
   "name": "python3"
  },
  "language_info": {
   "codemirror_mode": {
    "name": "ipython",
    "version": 3
   },
   "file_extension": ".py",
   "mimetype": "text/x-python",
   "name": "python",
   "nbconvert_exporter": "python",
   "pygments_lexer": "ipython3",
   "version": "3.7.4"
  }
 },
 "nbformat": 4,
 "nbformat_minor": 5
}
