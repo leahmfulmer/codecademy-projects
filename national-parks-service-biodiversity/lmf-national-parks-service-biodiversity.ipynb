{
 "cells": [
  {
   "cell_type": "markdown",
   "metadata": {},
   "source": [
    "# National Parks Service Biodiversity\n",
    "Codecademy Portfolio Project by Leah Fulmer ([Github](https://github.com/leahmfulmer))<br>"
   ]
  },
  {
   "cell_type": "markdown",
   "metadata": {},
   "source": [
    "#### Project Objectives from Codecademy:\n",
    "\n",
    "* Complete a project to add to your portfolio\n",
    "* Use Jupyter Notebook to communicate findings\n",
    "* Run an analysis on a set of data\n",
    "* Become familiar with data analysis workflow\n",
    "\n",
    "#### Table of Contents : COMPLETE IN POST\n",
    "[Section 1: Loading and Examining the Data](#data)<br>\n",
    "[Section 2: Wrangling and Tidying the Data](#tidy)<br>\n",
    "[Section 3: Questions for Analysis](#questions)<br>\n",
    "[Section 4: Analysis of Observations](#observations)<br>\n",
    "[Section 5: Analysis of Conservation Status](#conservation)<br>\n",
    "[Section 6: Analysis of National Parks](#parks)<br>\n",
    "[Section 7: Resting Place](#rest)<br>"
   ]
  },
  {
   "cell_type": "markdown",
   "metadata": {},
   "source": [
    "### Section 1: Loading and Examining the Data <a id=\"data\"></a>"
   ]
  },
  {
   "cell_type": "code",
   "execution_count": 1,
   "metadata": {},
   "outputs": [],
   "source": [
    "# Import modules\n",
    "\n",
    "import numpy as np\n",
    "import pandas as pd\n",
    "import seaborn as sns\n",
    "import matplotlib.pyplot as plt"
   ]
  },
  {
   "cell_type": "code",
   "execution_count": 2,
   "metadata": {},
   "outputs": [],
   "source": [
    "# Load data\n",
    "\n",
    "observations = pd.read_csv(\"observations.csv\")\n",
    "species_info = pd.read_csv(\"species_info.csv\")"
   ]
  },
  {
   "cell_type": "code",
   "execution_count": 3,
   "metadata": {},
   "outputs": [
    {
     "name": "stdout",
     "output_type": "stream",
     "text": [
      "The dataset 'observations' contains 23296 rows and 3 columns.\n"
     ]
    },
    {
     "data": {
      "text/html": [
       "<div>\n",
       "<style scoped>\n",
       "    .dataframe tbody tr th:only-of-type {\n",
       "        vertical-align: middle;\n",
       "    }\n",
       "\n",
       "    .dataframe tbody tr th {\n",
       "        vertical-align: top;\n",
       "    }\n",
       "\n",
       "    .dataframe thead th {\n",
       "        text-align: right;\n",
       "    }\n",
       "</style>\n",
       "<table border=\"1\" class=\"dataframe\">\n",
       "  <thead>\n",
       "    <tr style=\"text-align: right;\">\n",
       "      <th></th>\n",
       "      <th>scientific_name</th>\n",
       "      <th>park_name</th>\n",
       "      <th>observations</th>\n",
       "    </tr>\n",
       "  </thead>\n",
       "  <tbody>\n",
       "    <tr>\n",
       "      <th>0</th>\n",
       "      <td>Vicia benghalensis</td>\n",
       "      <td>Great Smoky Mountains National Park</td>\n",
       "      <td>68</td>\n",
       "    </tr>\n",
       "    <tr>\n",
       "      <th>1</th>\n",
       "      <td>Neovison vison</td>\n",
       "      <td>Great Smoky Mountains National Park</td>\n",
       "      <td>77</td>\n",
       "    </tr>\n",
       "    <tr>\n",
       "      <th>2</th>\n",
       "      <td>Prunus subcordata</td>\n",
       "      <td>Yosemite National Park</td>\n",
       "      <td>138</td>\n",
       "    </tr>\n",
       "    <tr>\n",
       "      <th>3</th>\n",
       "      <td>Abutilon theophrasti</td>\n",
       "      <td>Bryce National Park</td>\n",
       "      <td>84</td>\n",
       "    </tr>\n",
       "    <tr>\n",
       "      <th>4</th>\n",
       "      <td>Githopsis specularioides</td>\n",
       "      <td>Great Smoky Mountains National Park</td>\n",
       "      <td>85</td>\n",
       "    </tr>\n",
       "  </tbody>\n",
       "</table>\n",
       "</div>"
      ],
      "text/plain": [
       "            scientific_name                            park_name  observations\n",
       "0        Vicia benghalensis  Great Smoky Mountains National Park            68\n",
       "1            Neovison vison  Great Smoky Mountains National Park            77\n",
       "2         Prunus subcordata               Yosemite National Park           138\n",
       "3      Abutilon theophrasti                  Bryce National Park            84\n",
       "4  Githopsis specularioides  Great Smoky Mountains National Park            85"
      ]
     },
     "execution_count": 3,
     "metadata": {},
     "output_type": "execute_result"
    }
   ],
   "source": [
    "# Examine observations\n",
    "\n",
    "print(\"The dataset 'observations' contains {} rows and \\\n",
    "{} columns.\".format(observations.shape[0], observations.shape[1]))\n",
    "\n",
    "observations.head()\n",
    "# observations.count()"
   ]
  },
  {
   "cell_type": "code",
   "execution_count": 4,
   "metadata": {},
   "outputs": [
    {
     "name": "stdout",
     "output_type": "stream",
     "text": [
      "The dataset 'species_info' contains 5824 rows and 4 columns.\n"
     ]
    },
    {
     "data": {
      "text/html": [
       "<div>\n",
       "<style scoped>\n",
       "    .dataframe tbody tr th:only-of-type {\n",
       "        vertical-align: middle;\n",
       "    }\n",
       "\n",
       "    .dataframe tbody tr th {\n",
       "        vertical-align: top;\n",
       "    }\n",
       "\n",
       "    .dataframe thead th {\n",
       "        text-align: right;\n",
       "    }\n",
       "</style>\n",
       "<table border=\"1\" class=\"dataframe\">\n",
       "  <thead>\n",
       "    <tr style=\"text-align: right;\">\n",
       "      <th></th>\n",
       "      <th>category</th>\n",
       "      <th>scientific_name</th>\n",
       "      <th>common_names</th>\n",
       "      <th>conservation_status</th>\n",
       "    </tr>\n",
       "  </thead>\n",
       "  <tbody>\n",
       "    <tr>\n",
       "      <th>0</th>\n",
       "      <td>Mammal</td>\n",
       "      <td>Clethrionomys gapperi gapperi</td>\n",
       "      <td>Gapper's Red-Backed Vole</td>\n",
       "      <td>NaN</td>\n",
       "    </tr>\n",
       "    <tr>\n",
       "      <th>1</th>\n",
       "      <td>Mammal</td>\n",
       "      <td>Bos bison</td>\n",
       "      <td>American Bison, Bison</td>\n",
       "      <td>NaN</td>\n",
       "    </tr>\n",
       "    <tr>\n",
       "      <th>2</th>\n",
       "      <td>Mammal</td>\n",
       "      <td>Bos taurus</td>\n",
       "      <td>Aurochs, Aurochs, Domestic Cattle (Feral), Dom...</td>\n",
       "      <td>NaN</td>\n",
       "    </tr>\n",
       "    <tr>\n",
       "      <th>3</th>\n",
       "      <td>Mammal</td>\n",
       "      <td>Ovis aries</td>\n",
       "      <td>Domestic Sheep, Mouflon, Red Sheep, Sheep (Feral)</td>\n",
       "      <td>NaN</td>\n",
       "    </tr>\n",
       "    <tr>\n",
       "      <th>4</th>\n",
       "      <td>Mammal</td>\n",
       "      <td>Cervus elaphus</td>\n",
       "      <td>Wapiti Or Elk</td>\n",
       "      <td>NaN</td>\n",
       "    </tr>\n",
       "  </tbody>\n",
       "</table>\n",
       "</div>"
      ],
      "text/plain": [
       "  category                scientific_name  \\\n",
       "0   Mammal  Clethrionomys gapperi gapperi   \n",
       "1   Mammal                      Bos bison   \n",
       "2   Mammal                     Bos taurus   \n",
       "3   Mammal                     Ovis aries   \n",
       "4   Mammal                 Cervus elaphus   \n",
       "\n",
       "                                        common_names conservation_status  \n",
       "0                           Gapper's Red-Backed Vole                 NaN  \n",
       "1                              American Bison, Bison                 NaN  \n",
       "2  Aurochs, Aurochs, Domestic Cattle (Feral), Dom...                 NaN  \n",
       "3  Domestic Sheep, Mouflon, Red Sheep, Sheep (Feral)                 NaN  \n",
       "4                                      Wapiti Or Elk                 NaN  "
      ]
     },
     "execution_count": 4,
     "metadata": {},
     "output_type": "execute_result"
    }
   ],
   "source": [
    "# Examine species_info\n",
    "\n",
    "print(\"The dataset 'species_info' contains {} rows and \\\n",
    "{} columns.\".format(species_info.shape[0], species_info.shape[1]))\n",
    "\n",
    "species_info.head()\n",
    "# species_info.count()"
   ]
  },
  {
   "cell_type": "markdown",
   "metadata": {},
   "source": [
    "### Section 2: Wrangling and Tidying the Data<a id=\"tidy\"></a>"
   ]
  },
  {
   "cell_type": "markdown",
   "metadata": {},
   "source": [
    "#### All Datasets"
   ]
  },
  {
   "cell_type": "code",
   "execution_count": 5,
   "metadata": {},
   "outputs": [],
   "source": [
    "# Make all rows with strings lower case\n",
    "\n",
    "def make_lower_case(df):\n",
    "    for column in df.columns:\n",
    "        if type(df[column][0]) != np.int64:\n",
    "            df[column] = df[column].apply(lambda x: x.lower() if type(x) != float else x)\n",
    "\n",
    "make_lower_case(observations)\n",
    "make_lower_case(species_info)"
   ]
  },
  {
   "cell_type": "markdown",
   "metadata": {},
   "source": [
    "#### Observations"
   ]
  },
  {
   "cell_type": "code",
   "execution_count": 6,
   "metadata": {},
   "outputs": [
    {
     "name": "stdout",
     "output_type": "stream",
     "text": [
      "The dataset 'observations' now contains 23281 rows and 3 columns.\n"
     ]
    }
   ],
   "source": [
    "# Drop completely-duplicated rows\n",
    "\n",
    "observations.drop_duplicates(subset=['scientific_name', 'park_name', 'observations'], inplace=True)\n",
    "print(\"The dataset 'observations' now contains {} rows and \\\n",
    "{} columns.\".format(observations.shape[0], observations.shape[1]))"
   ]
  },
  {
   "cell_type": "code",
   "execution_count": 7,
   "metadata": {},
   "outputs": [
    {
     "name": "stdout",
     "output_type": "stream",
     "text": [
      "The dataset 'observations' now contains 22164 rows and 3 columns.\n"
     ]
    }
   ],
   "source": [
    "# Sum observational instances for rows with duplicated scientific_name and park_name \n",
    "\n",
    "observations = observations.groupby(['scientific_name', 'park_name'])['observations'].sum().reset_index()\n",
    "print(\"The dataset 'observations' now contains {} rows and \\\n",
    "{} columns.\".format(observations.shape[0], observations.shape[1]))"
   ]
  },
  {
   "cell_type": "markdown",
   "metadata": {},
   "source": [
    "#### Species_info"
   ]
  },
  {
   "cell_type": "code",
   "execution_count": 8,
   "metadata": {},
   "outputs": [
    {
     "name": "stdout",
     "output_type": "stream",
     "text": [
      "There are 283 rows with the same scientific_name in 'species_info'.\n",
      "Therefore, we expect our tidy 'species_info' dataset to contain 5541 rows.\n"
     ]
    }
   ],
   "source": [
    "# Count how many rows we expect in our tidy species_info dataset\n",
    "\n",
    "duplicates = species_info[species_info.duplicated(subset=['scientific_name'])]\n",
    "print(\"There are {} rows with the same scientific_name in 'species_info'.\"\\\n",
    "      .format(duplicates.shape[0]))\n",
    "print(\"Therefore, we expect our tidy 'species_info' dataset to contain {} rows.\"\\\n",
    "      .format(species_info.shape[0] - duplicates.shape[0]))"
   ]
  },
  {
   "cell_type": "code",
   "execution_count": 9,
   "metadata": {},
   "outputs": [],
   "source": [
    "# Replace NaN values with \"no data\"\n",
    "\n",
    "species_info.conservation_status = species_info.conservation_status.fillna(\"no data\")"
   ]
  },
  {
   "cell_type": "code",
   "execution_count": 10,
   "metadata": {},
   "outputs": [
    {
     "name": "stdout",
     "output_type": "stream",
     "text": [
      "The dataset 'species_info' now contains 5541 rows and 4 columns.\n"
     ]
    },
    {
     "data": {
      "text/html": [
       "<div>\n",
       "<style scoped>\n",
       "    .dataframe tbody tr th:only-of-type {\n",
       "        vertical-align: middle;\n",
       "    }\n",
       "\n",
       "    .dataframe tbody tr th {\n",
       "        vertical-align: top;\n",
       "    }\n",
       "\n",
       "    .dataframe thead th {\n",
       "        text-align: right;\n",
       "    }\n",
       "</style>\n",
       "<table border=\"1\" class=\"dataframe\">\n",
       "  <thead>\n",
       "    <tr style=\"text-align: right;\">\n",
       "      <th></th>\n",
       "      <th>scientific_name</th>\n",
       "      <th>common_names</th>\n",
       "      <th>category</th>\n",
       "      <th>conservation_status</th>\n",
       "    </tr>\n",
       "  </thead>\n",
       "  <tbody>\n",
       "    <tr>\n",
       "      <th>0</th>\n",
       "      <td>abies bifolia</td>\n",
       "      <td>rocky mountain alpine fir</td>\n",
       "      <td>vascular plant</td>\n",
       "      <td>no data</td>\n",
       "    </tr>\n",
       "    <tr>\n",
       "      <th>1</th>\n",
       "      <td>abies concolor</td>\n",
       "      <td>balsam fir, colorado fir, concolor fir, silver...</td>\n",
       "      <td>vascular plant</td>\n",
       "      <td>no data</td>\n",
       "    </tr>\n",
       "    <tr>\n",
       "      <th>2</th>\n",
       "      <td>abies fraseri</td>\n",
       "      <td>fraser fir</td>\n",
       "      <td>vascular plant</td>\n",
       "      <td>species of concern</td>\n",
       "    </tr>\n",
       "    <tr>\n",
       "      <th>3</th>\n",
       "      <td>abietinella abietina</td>\n",
       "      <td>abietinella moss</td>\n",
       "      <td>nonvascular plant</td>\n",
       "      <td>no data</td>\n",
       "    </tr>\n",
       "    <tr>\n",
       "      <th>4</th>\n",
       "      <td>abronia ammophila</td>\n",
       "      <td>wyoming sand verbena, yellowstone sand verbena</td>\n",
       "      <td>vascular plant</td>\n",
       "      <td>species of concern</td>\n",
       "    </tr>\n",
       "  </tbody>\n",
       "</table>\n",
       "</div>"
      ],
      "text/plain": [
       "        scientific_name                                       common_names  \\\n",
       "0         abies bifolia                          rocky mountain alpine fir   \n",
       "1        abies concolor  balsam fir, colorado fir, concolor fir, silver...   \n",
       "2         abies fraseri                                         fraser fir   \n",
       "3  abietinella abietina                                   abietinella moss   \n",
       "4     abronia ammophila     wyoming sand verbena, yellowstone sand verbena   \n",
       "\n",
       "            category conservation_status  \n",
       "0     vascular plant             no data  \n",
       "1     vascular plant             no data  \n",
       "2     vascular plant  species of concern  \n",
       "3  nonvascular plant             no data  \n",
       "4     vascular plant  species of concern  "
      ]
     },
     "execution_count": 10,
     "metadata": {},
     "output_type": "execute_result"
    }
   ],
   "source": [
    "# Join common_names and conservation_status for duplicated scientific_name\n",
    "\n",
    "species_info = species_info.groupby('scientific_name', as_index=False)\\\n",
    ".agg({'common_names': lambda x: ', '.join(x), 'category': 'first', \\\n",
    "      'conservation_status': 'last'})\n",
    "\n",
    "print(\"The dataset 'species_info' now contains {} rows and \\\n",
    "{} columns.\".format(species_info.shape[0], species_info.shape[1]))\n",
    "species_info.head()"
   ]
  },
  {
   "cell_type": "markdown",
   "metadata": {},
   "source": [
    "#### Merge"
   ]
  },
  {
   "cell_type": "code",
   "execution_count": 11,
   "metadata": {},
   "outputs": [
    {
     "name": "stdout",
     "output_type": "stream",
     "text": [
      "The dataset 'combined' contains 22164 rows and 6 columns.\n"
     ]
    },
    {
     "data": {
      "text/html": [
       "<div>\n",
       "<style scoped>\n",
       "    .dataframe tbody tr th:only-of-type {\n",
       "        vertical-align: middle;\n",
       "    }\n",
       "\n",
       "    .dataframe tbody tr th {\n",
       "        vertical-align: top;\n",
       "    }\n",
       "\n",
       "    .dataframe thead th {\n",
       "        text-align: right;\n",
       "    }\n",
       "</style>\n",
       "<table border=\"1\" class=\"dataframe\">\n",
       "  <thead>\n",
       "    <tr style=\"text-align: right;\">\n",
       "      <th></th>\n",
       "      <th>scientific_name</th>\n",
       "      <th>park_name</th>\n",
       "      <th>observations</th>\n",
       "      <th>common_names</th>\n",
       "      <th>category</th>\n",
       "      <th>conservation_status</th>\n",
       "    </tr>\n",
       "  </thead>\n",
       "  <tbody>\n",
       "    <tr>\n",
       "      <th>0</th>\n",
       "      <td>abies bifolia</td>\n",
       "      <td>bryce national park</td>\n",
       "      <td>109</td>\n",
       "      <td>rocky mountain alpine fir</td>\n",
       "      <td>vascular plant</td>\n",
       "      <td>no data</td>\n",
       "    </tr>\n",
       "    <tr>\n",
       "      <th>1</th>\n",
       "      <td>abies bifolia</td>\n",
       "      <td>great smoky mountains national park</td>\n",
       "      <td>72</td>\n",
       "      <td>rocky mountain alpine fir</td>\n",
       "      <td>vascular plant</td>\n",
       "      <td>no data</td>\n",
       "    </tr>\n",
       "    <tr>\n",
       "      <th>2</th>\n",
       "      <td>abies bifolia</td>\n",
       "      <td>yellowstone national park</td>\n",
       "      <td>215</td>\n",
       "      <td>rocky mountain alpine fir</td>\n",
       "      <td>vascular plant</td>\n",
       "      <td>no data</td>\n",
       "    </tr>\n",
       "    <tr>\n",
       "      <th>3</th>\n",
       "      <td>abies bifolia</td>\n",
       "      <td>yosemite national park</td>\n",
       "      <td>136</td>\n",
       "      <td>rocky mountain alpine fir</td>\n",
       "      <td>vascular plant</td>\n",
       "      <td>no data</td>\n",
       "    </tr>\n",
       "    <tr>\n",
       "      <th>4</th>\n",
       "      <td>abies concolor</td>\n",
       "      <td>bryce national park</td>\n",
       "      <td>83</td>\n",
       "      <td>balsam fir, colorado fir, concolor fir, silver...</td>\n",
       "      <td>vascular plant</td>\n",
       "      <td>no data</td>\n",
       "    </tr>\n",
       "  </tbody>\n",
       "</table>\n",
       "</div>"
      ],
      "text/plain": [
       "  scientific_name                            park_name  observations  \\\n",
       "0   abies bifolia                  bryce national park           109   \n",
       "1   abies bifolia  great smoky mountains national park            72   \n",
       "2   abies bifolia            yellowstone national park           215   \n",
       "3   abies bifolia               yosemite national park           136   \n",
       "4  abies concolor                  bryce national park            83   \n",
       "\n",
       "                                        common_names        category  \\\n",
       "0                          rocky mountain alpine fir  vascular plant   \n",
       "1                          rocky mountain alpine fir  vascular plant   \n",
       "2                          rocky mountain alpine fir  vascular plant   \n",
       "3                          rocky mountain alpine fir  vascular plant   \n",
       "4  balsam fir, colorado fir, concolor fir, silver...  vascular plant   \n",
       "\n",
       "  conservation_status  \n",
       "0             no data  \n",
       "1             no data  \n",
       "2             no data  \n",
       "3             no data  \n",
       "4             no data  "
      ]
     },
     "execution_count": 11,
     "metadata": {},
     "output_type": "execute_result"
    }
   ],
   "source": [
    "# Combine 'observations' and 'species_info'\n",
    "\n",
    "combined = pd.merge(observations, species_info, on = ['scientific_name'], how = 'left')\n",
    "\n",
    "print(\"The dataset 'combined' contains {} rows and \\\n",
    "{} columns.\".format(combined.shape[0], combined.shape[1]))\n",
    "combined.head()"
   ]
  },
  {
   "cell_type": "markdown",
   "metadata": {},
   "source": [
    "#### Separate by National Park"
   ]
  },
  {
   "cell_type": "code",
   "execution_count": 12,
   "metadata": {},
   "outputs": [],
   "source": [
    "# Create unique dataframes for each National Park\n",
    "\n",
    "def isolate(park_name):\n",
    "    df = combined[combined.park_name == park_name]\n",
    "    return df\n",
    "\n",
    "bryce = isolate(\"bryce national park\")\n",
    "great_smoky = isolate(\"great smoky mountains national park\")\n",
    "yellowstone = isolate(\"yellowstone national park\")\n",
    "yosemite = isolate(\"yosemite national park\")"
   ]
  },
  {
   "cell_type": "markdown",
   "metadata": {},
   "source": [
    "### Section 3: Questions for Analysis<a id=\"questions\"></a>\n",
    "\n",
    "* Which National Parks make the most observations? Which categories of species do they observe?\n",
    "\n",
    "\n",
    "* Which categories of species are most flagged for conservation?\n",
    "* What are the top ten most-observed species?\n",
    "\n",
    "**Observations by Location:**\n",
    "* Which national park takes the most observations and what do they observe?\n",
    "* Which national park contains the most species flagged for conservation?\n",
    "* Which categories or species are observed most?\n",
    "* Do number of observations correlate with any other property (e.g., category, conservation_status)?\n",
    "\n",
    "**Conservation Status:**\n",
    "* What types of conservation status exist?\n",
    "* Which categories are most flagged for conservation?\n",
    "\n",
    "**National Parks:**\n",
    "* Does the number of observations vary across national park?\n",
    "* Which national park contains the most species flagged for conservation?"
   ]
  },
  {
   "cell_type": "markdown",
   "metadata": {},
   "source": [
    "#### Which National Parks make the most observations? Which categories of species do they observe?"
   ]
  },
  {
   "cell_type": "code",
   "execution_count": 13,
   "metadata": {},
   "outputs": [],
   "source": [
    "# Group observations by National Park\n",
    "parks_grouped = combined.groupby([\"park_name\", \"category\"]).observations.sum().reset_index()\n",
    "\n",
    "# Pivot by species category\n",
    "pivot_category = parks_grouped.pivot(columns='category', \\\n",
    "                              index='park_name', values='observations').reset_index()\n",
    "column_order = ['park_name', 'vascular plant', 'bird', 'nonvascular plant', 'mammal', 'fish', 'reptile', 'amphibian']\n",
    "row_order = ['yellowstone national park', 'yosemite national park', 'bryce national park', 'great smoky mountains national park']\n",
    "pivot_category = pivot_category.reindex(column_order, axis=1).reindex([2,3,0,1])\n",
    "\n",
    "# Create a color dictionary\n",
    "palette = sns.color_palette(\"gist_earth\", 8)\n",
    "# palette.reverse()\n",
    "colors = dict(zip(column_order, palette))\n",
    "\n",
    "# parks_grouped.head()\n",
    "# pivot_category.head()"
   ]
  },
  {
   "cell_type": "code",
   "execution_count": 14,
   "metadata": {},
   "outputs": [
    {
     "data": {
      "image/png": "[encoded data removed]",
      "text/plain": [
       "<Figure size 1152x432 with 2 Axes>"
      ]
     },
     "metadata": {
      "needs_background": "light"
     },
     "output_type": "display_data"
    }
   ],
   "source": [
    "# Plot Number of Observations by National Park and Species Category\n",
    "\n",
    "fig, axes = plt.subplots(figsize=(16,6), nrows=2, ncols=1)\n",
    "\n",
    "# Observations sum\n",
    "df = parks_grouped.groupby('park_name').observations.sum().reset_index()\\\n",
    "        .sort_values('observations', ascending=False)\n",
    "ax = df.plot(ax=axes[0], \\\n",
    "        kind='bar', rot=0, title=\"Number of Observations by National Park and Species Category\", \\\n",
    "        xlabel='', ylabel=\"Observations\", legend=False, color=colors['park_name'])\n",
    "ax.set_xticklabels(df.park_name)\n",
    "\n",
    "# Observations by category\n",
    "pivot_category.plot(ax=axes[1], x='park_name', kind='bar', \\\n",
    "                    rot=0, xlabel=\"Park Name\", ylabel=\"Observations\", color=colors)\n",
    "plt.legend(ncol=7, bbox_to_anchor=(0.85, -0.25))\n",
    "\n",
    "plt.show()"
   ]
  },
  {
   "cell_type": "markdown",
   "metadata": {},
   "source": [
    "Yellowstone National Park makes the most observations. Among every park, vascular plants are by far the most observed category, making other categories difficult to see. Let's drop vascular plants from our dataset and take a closer look at the distribution of observations in the other categories."
   ]
  },
  {
   "cell_type": "code",
   "execution_count": 15,
   "metadata": {},
   "outputs": [
    {
     "data": {
      "image/png": "[encoded data removed]",
      "text/plain": [
       "<Figure size 1152x216 with 1 Axes>"
      ]
     },
     "metadata": {
      "needs_background": "light"
     },
     "output_type": "display_data"
    }
   ],
   "source": [
    "# Plot Number of Observations by National Park and Species Category Without Vascular Plants\n",
    "\n",
    "pivot_category.drop(['vascular plant'], axis=1).plot(x='park_name', kind='bar', rot=0, \\\n",
    "        title=\"Number of Observations by National Park and Species Category\\nWithout Vascular Plants\", \\\n",
    "        xlabel='Park Name', figsize=(16,3), color=colors)\n",
    "plt.legend(ncol=7, bbox_to_anchor=(0.82, -0.25))\n",
    "\n",
    "plt.show()"
   ]
  },
  {
   "cell_type": "markdown",
   "metadata": {},
   "source": [
    "The distribution of observations among every park takes a surprisingly similar shape. Birds are most observed, followed by nonvascular plants, then mammals, fish, and ending with amphibians and reptiles nearly tied for least number of observations. This pattern may illuminate how the data was taken. Finding the pattern a little too neat (and remembering that Codecademy does not cite a data source), my first impression was that the data is simulated. However, although the proportions of observations look similar in the above visualization, their exact values are all slightly off from exactly proportionate. Perhaps this pattern instead speaks to the observational accessibility of varying categories or an observational quota required by the investigators."
   ]
  },
  {
   "cell_type": "markdown",
   "metadata": {},
   "source": [
    "#### What is the categorical distribution among species flagged for conservation?"
   ]
  },
  {
   "cell_type": "code",
   "execution_count": 16,
   "metadata": {},
   "outputs": [
    {
     "data": {
      "image/png": "[encoded data removed]",
      "text/plain": [
       "<Figure size 1152x360 with 1 Axes>"
      ]
     },
     "metadata": {
      "needs_background": "light"
     },
     "output_type": "display_data"
    }
   ],
   "source": [
    "# Isolate species flagged for conservation\n",
    "conserve = combined[combined.conservation_status != 'no data']\n",
    "\n",
    "plt.figure(figsize=(16,5))\n",
    "sns.countplot(data=conserve, x='conservation_status', hue='category', palette=colors)\n",
    "plt.legend(ncol=7, bbox_to_anchor=(1,1), title='Category')\n",
    "plt.title(\"Number of Species Flagged for Conservation\")\n",
    "plt.xlabel(\"Conservation Status\")\n",
    "plt.ylabel(\"Number of Species\")\n",
    "plt.show()"
   ]
  },
  {
   "cell_type": "markdown",
   "metadata": {},
   "source": [
    "The large majority of those species flagged for conservation are classified as \"species of concern\", rather than \"threated\", \"endangered\", or \"in recovery\". "
   ]
  },
  {
   "cell_type": "code",
   "execution_count": null,
   "metadata": {},
   "outputs": [],
   "source": []
  },
  {
   "cell_type": "code",
   "execution_count": null,
   "metadata": {},
   "outputs": [],
   "source": []
  },
  {
   "cell_type": "markdown",
   "metadata": {},
   "source": [
    "### Section 7: Resting Place<a id=\"rest\"></a>"
   ]
  },
  {
   "cell_type": "code",
   "execution_count": 17,
   "metadata": {},
   "outputs": [
    {
     "data": {
      "text/html": [
       "<div>\n",
       "<style scoped>\n",
       "    .dataframe tbody tr th:only-of-type {\n",
       "        vertical-align: middle;\n",
       "    }\n",
       "\n",
       "    .dataframe tbody tr th {\n",
       "        vertical-align: top;\n",
       "    }\n",
       "\n",
       "    .dataframe thead th {\n",
       "        text-align: right;\n",
       "    }\n",
       "</style>\n",
       "<table border=\"1\" class=\"dataframe\">\n",
       "  <thead>\n",
       "    <tr style=\"text-align: right;\">\n",
       "      <th></th>\n",
       "      <th>scientific_name</th>\n",
       "      <th>park_name</th>\n",
       "      <th>observations</th>\n",
       "      <th>common_names</th>\n",
       "      <th>category</th>\n",
       "      <th>conservation_status</th>\n",
       "    </tr>\n",
       "  </thead>\n",
       "  <tbody>\n",
       "    <tr>\n",
       "      <th>8455</th>\n",
       "      <td>falco peregrinus anatum</td>\n",
       "      <td>yosemite national park</td>\n",
       "      <td>152</td>\n",
       "      <td>american peregrine falcon</td>\n",
       "      <td>bird</td>\n",
       "      <td>in recovery</td>\n",
       "    </tr>\n",
       "    <tr>\n",
       "      <th>9387</th>\n",
       "      <td>haliaeetus leucocephalus</td>\n",
       "      <td>yosemite national park</td>\n",
       "      <td>112</td>\n",
       "      <td>bald eagle</td>\n",
       "      <td>bird</td>\n",
       "      <td>in recovery</td>\n",
       "    </tr>\n",
       "    <tr>\n",
       "      <th>14379</th>\n",
       "      <td>pelecanus occidentalis</td>\n",
       "      <td>yosemite national park</td>\n",
       "      <td>122</td>\n",
       "      <td>brown pelican</td>\n",
       "      <td>bird</td>\n",
       "      <td>in recovery</td>\n",
       "    </tr>\n",
       "  </tbody>\n",
       "</table>\n",
       "</div>"
      ],
      "text/plain": [
       "                scientific_name               park_name  observations  \\\n",
       "8455    falco peregrinus anatum  yosemite national park           152   \n",
       "9387   haliaeetus leucocephalus  yosemite national park           112   \n",
       "14379    pelecanus occidentalis  yosemite national park           122   \n",
       "\n",
       "                    common_names category conservation_status  \n",
       "8455   american peregrine falcon     bird         in recovery  \n",
       "9387                  bald eagle     bird         in recovery  \n",
       "14379              brown pelican     bird         in recovery  "
      ]
     },
     "execution_count": 17,
     "metadata": {},
     "output_type": "execute_result"
    }
   ],
   "source": [
    "# Isolate species flagged for conservation in each park\n",
    "\n",
    "def conserve(df):\n",
    "    df = df[df.conservation_status != 'no data']\n",
    "    return df\n",
    "\n",
    "bryce_conserve = conserve(bryce)\n",
    "great_smoky_conserve = conserve(great_smoky)\n",
    "yellowstone_conserve = conserve(yellowstone)\n",
    "yosemite_conserve = conserve(yosemite)\n",
    "\n",
    "yosemite_conserve[yosemite_conserve.conservation_status == 'in recovery'].head(10)"
   ]
  },
  {
   "cell_type": "code",
   "execution_count": 18,
   "metadata": {},
   "outputs": [
    {
     "data": {
      "text/html": [
       "<div>\n",
       "<style scoped>\n",
       "    .dataframe tbody tr th:only-of-type {\n",
       "        vertical-align: middle;\n",
       "    }\n",
       "\n",
       "    .dataframe tbody tr th {\n",
       "        vertical-align: top;\n",
       "    }\n",
       "\n",
       "    .dataframe thead th {\n",
       "        text-align: right;\n",
       "    }\n",
       "</style>\n",
       "<table border=\"1\" class=\"dataframe\">\n",
       "  <thead>\n",
       "    <tr style=\"text-align: right;\">\n",
       "      <th></th>\n",
       "      <th>scientific_name</th>\n",
       "      <th>park_name</th>\n",
       "      <th>observations</th>\n",
       "      <th>common_names</th>\n",
       "      <th>category</th>\n",
       "      <th>conservation_status</th>\n",
       "    </tr>\n",
       "  </thead>\n",
       "  <tbody>\n",
       "    <tr>\n",
       "      <th>8454</th>\n",
       "      <td>falco peregrinus anatum</td>\n",
       "      <td>yellowstone national park</td>\n",
       "      <td>176</td>\n",
       "      <td>american peregrine falcon</td>\n",
       "      <td>bird</td>\n",
       "      <td>in recovery</td>\n",
       "    </tr>\n",
       "    <tr>\n",
       "      <th>9386</th>\n",
       "      <td>haliaeetus leucocephalus</td>\n",
       "      <td>yellowstone national park</td>\n",
       "      <td>187</td>\n",
       "      <td>bald eagle</td>\n",
       "      <td>bird</td>\n",
       "      <td>in recovery</td>\n",
       "    </tr>\n",
       "    <tr>\n",
       "      <th>14378</th>\n",
       "      <td>pelecanus occidentalis</td>\n",
       "      <td>yellowstone national park</td>\n",
       "      <td>196</td>\n",
       "      <td>brown pelican</td>\n",
       "      <td>bird</td>\n",
       "      <td>in recovery</td>\n",
       "    </tr>\n",
       "  </tbody>\n",
       "</table>\n",
       "</div>"
      ],
      "text/plain": [
       "                scientific_name                  park_name  observations  \\\n",
       "8454    falco peregrinus anatum  yellowstone national park           176   \n",
       "9386   haliaeetus leucocephalus  yellowstone national park           187   \n",
       "14378    pelecanus occidentalis  yellowstone national park           196   \n",
       "\n",
       "                    common_names category conservation_status  \n",
       "8454   american peregrine falcon     bird         in recovery  \n",
       "9386                  bald eagle     bird         in recovery  \n",
       "14378              brown pelican     bird         in recovery  "
      ]
     },
     "execution_count": 18,
     "metadata": {},
     "output_type": "execute_result"
    }
   ],
   "source": [
    "yellowstone_conserve[yellowstone_conserve.conservation_status == 'in recovery'].head(10)"
   ]
  },
  {
   "cell_type": "code",
   "execution_count": 19,
   "metadata": {},
   "outputs": [
    {
     "data": {
      "image/png": "[encoded data removed]",
      "text/plain": [
       "<Figure size 720x720 with 4 Axes>"
      ]
     },
     "metadata": {
      "needs_background": "light"
     },
     "output_type": "display_data"
    }
   ],
   "source": [
    "# Plot conservation_status stacked by category for multiple parks\n",
    "\n",
    "fig, axes = plt.subplots(figsize=(10,10), nrows=2, ncols=2)\n",
    "\n",
    "a = sns.countplot(ax=axes[0,0], data=bryce_conserve, x='conservation_status', hue='category')\n",
    "a.set_title(\"Bryce National Park\")\n",
    "\n",
    "b = sns.countplot(ax=axes[0,1], data=great_smoky_conserve, x='conservation_status', hue='category')\n",
    "b.set_title(\"Great Smoky Mountains National Park\")\n",
    "\n",
    "c = sns.countplot(ax=axes[1,0], data=yellowstone_conserve, x='conservation_status', hue='category')\n",
    "c.set_title(\"Yellowstone National Park\")\n",
    "\n",
    "d = sns.countplot(ax=axes[1,1], data=yosemite_conserve, x='conservation_status', hue='category')\n",
    "d.set_title(\"Yosemite National Park\")\n",
    "\n",
    "plt.show()\n",
    "\n",
    "\n",
    "\n",
    "# sns.move_legend(g, \"upper right\", title='Category')\n",
    "# plt.title(\"Bryce National Park\")\n",
    "# plt.show()\n",
    "\n",
    "# parks_grouped.groupby('park_name').observations.sum().plot(ax=axes[0], \\\n",
    "#         kind='bar', rot=0, title=\"Number of Observations by National Park and Species Category\", \\\n",
    "#         xlabel='')\n",
    "# pivot_category.plot(ax=axes[1], x='park_name', kind='bar', rot=0, xlabel=\"Park Name\")\n",
    "# plt.legend(ncol=7, bbox_to_anchor=(0.85, -0.25))"
   ]
  },
  {
   "cell_type": "code",
   "execution_count": 20,
   "metadata": {},
   "outputs": [
    {
     "ename": "ValueError",
     "evalue": "Could not interpret value `conservation_status` for parameter `x`",
     "output_type": "error",
     "traceback": [
      "\u001b[0;31m---------------------------------------------------------------------------\u001b[0m",
      "\u001b[0;31mValueError\u001b[0m                                Traceback (most recent call last)",
      "\u001b[0;32m<ipython-input-20-fddb1674b087>\u001b[0m in \u001b[0;36m<module>\u001b[0;34m\u001b[0m\n\u001b[1;32m      1\u001b[0m \u001b[0mplt\u001b[0m\u001b[0;34m.\u001b[0m\u001b[0mfigure\u001b[0m\u001b[0;34m(\u001b[0m\u001b[0mfigsize\u001b[0m\u001b[0;34m=\u001b[0m\u001b[0;34m(\u001b[0m\u001b[0;36m20\u001b[0m\u001b[0;34m,\u001b[0m\u001b[0;36m10\u001b[0m\u001b[0;34m)\u001b[0m\u001b[0;34m)\u001b[0m\u001b[0;34m\u001b[0m\u001b[0;34m\u001b[0m\u001b[0m\n\u001b[1;32m      2\u001b[0m ax = sns.displot(data=conserve, x='conservation_status', \\\n\u001b[0;32m----> 3\u001b[0;31m                  hue='category', multiple='stack', height=5, aspect=1.8)\n\u001b[0m\u001b[1;32m      4\u001b[0m \u001b[0;31m# sns.move_legend(ax, \"lower center\", bbox_to_anchor=(.5, 1), ncol=3, title=None, frameon=False)\u001b[0m\u001b[0;34m\u001b[0m\u001b[0;34m\u001b[0m\u001b[0;34m\u001b[0m\u001b[0m\n\u001b[1;32m      5\u001b[0m \u001b[0mplt\u001b[0m\u001b[0;34m.\u001b[0m\u001b[0mtitle\u001b[0m\u001b[0;34m(\u001b[0m\u001b[0;34m\"Conservation Status by Species Category\"\u001b[0m\u001b[0;34m)\u001b[0m\u001b[0;34m\u001b[0m\u001b[0;34m\u001b[0m\u001b[0m\n",
      "\u001b[0;32m/opt/anaconda3/envs/earthseed/lib/python3.7/site-packages/seaborn/distributions.py\u001b[0m in \u001b[0;36mdisplot\u001b[0;34m(data, x, y, hue, row, col, weights, kind, rug, rug_kws, log_scale, legend, palette, hue_order, hue_norm, color, col_wrap, row_order, col_order, height, aspect, facet_kws, **kwargs)\u001b[0m\n\u001b[1;32m   2125\u001b[0m     p = _DistributionFacetPlotter(\n\u001b[1;32m   2126\u001b[0m         \u001b[0mdata\u001b[0m\u001b[0;34m=\u001b[0m\u001b[0mdata\u001b[0m\u001b[0;34m,\u001b[0m\u001b[0;34m\u001b[0m\u001b[0;34m\u001b[0m\u001b[0m\n\u001b[0;32m-> 2127\u001b[0;31m         \u001b[0mvariables\u001b[0m\u001b[0;34m=\u001b[0m\u001b[0m_DistributionFacetPlotter\u001b[0m\u001b[0;34m.\u001b[0m\u001b[0mget_semantics\u001b[0m\u001b[0;34m(\u001b[0m\u001b[0mlocals\u001b[0m\u001b[0;34m(\u001b[0m\u001b[0;34m)\u001b[0m\u001b[0;34m)\u001b[0m\u001b[0;34m\u001b[0m\u001b[0;34m\u001b[0m\u001b[0m\n\u001b[0m\u001b[1;32m   2128\u001b[0m     )\n\u001b[1;32m   2129\u001b[0m \u001b[0;34m\u001b[0m\u001b[0m\n",
      "\u001b[0;32m/opt/anaconda3/envs/earthseed/lib/python3.7/site-packages/seaborn/distributions.py\u001b[0m in \u001b[0;36m__init__\u001b[0;34m(self, data, variables)\u001b[0m\n\u001b[1;32m    111\u001b[0m     ):\n\u001b[1;32m    112\u001b[0m \u001b[0;34m\u001b[0m\u001b[0m\n\u001b[0;32m--> 113\u001b[0;31m         \u001b[0msuper\u001b[0m\u001b[0;34m(\u001b[0m\u001b[0;34m)\u001b[0m\u001b[0;34m.\u001b[0m\u001b[0m__init__\u001b[0m\u001b[0;34m(\u001b[0m\u001b[0mdata\u001b[0m\u001b[0;34m=\u001b[0m\u001b[0mdata\u001b[0m\u001b[0;34m,\u001b[0m \u001b[0mvariables\u001b[0m\u001b[0;34m=\u001b[0m\u001b[0mvariables\u001b[0m\u001b[0;34m)\u001b[0m\u001b[0;34m\u001b[0m\u001b[0;34m\u001b[0m\u001b[0m\n\u001b[0m\u001b[1;32m    114\u001b[0m \u001b[0;34m\u001b[0m\u001b[0m\n\u001b[1;32m    115\u001b[0m     \u001b[0;34m@\u001b[0m\u001b[0mproperty\u001b[0m\u001b[0;34m\u001b[0m\u001b[0;34m\u001b[0m\u001b[0m\n",
      "\u001b[0;32m/opt/anaconda3/envs/earthseed/lib/python3.7/site-packages/seaborn/_oldcore.py\u001b[0m in \u001b[0;36m__init__\u001b[0;34m(self, data, variables)\u001b[0m\n\u001b[1;32m    638\u001b[0m         \u001b[0;31m# information for numeric axes would be information about log scales.\u001b[0m\u001b[0;34m\u001b[0m\u001b[0;34m\u001b[0m\u001b[0;34m\u001b[0m\u001b[0m\n\u001b[1;32m    639\u001b[0m         \u001b[0mself\u001b[0m\u001b[0;34m.\u001b[0m\u001b[0m_var_ordered\u001b[0m \u001b[0;34m=\u001b[0m \u001b[0;34m{\u001b[0m\u001b[0;34m\"x\"\u001b[0m\u001b[0;34m:\u001b[0m \u001b[0;32mFalse\u001b[0m\u001b[0;34m,\u001b[0m \u001b[0;34m\"y\"\u001b[0m\u001b[0;34m:\u001b[0m \u001b[0;32mFalse\u001b[0m\u001b[0;34m}\u001b[0m  \u001b[0;31m# alt., used DefaultDict\u001b[0m\u001b[0;34m\u001b[0m\u001b[0;34m\u001b[0m\u001b[0m\n\u001b[0;32m--> 640\u001b[0;31m         \u001b[0mself\u001b[0m\u001b[0;34m.\u001b[0m\u001b[0massign_variables\u001b[0m\u001b[0;34m(\u001b[0m\u001b[0mdata\u001b[0m\u001b[0;34m,\u001b[0m \u001b[0mvariables\u001b[0m\u001b[0;34m)\u001b[0m\u001b[0;34m\u001b[0m\u001b[0;34m\u001b[0m\u001b[0m\n\u001b[0m\u001b[1;32m    641\u001b[0m \u001b[0;34m\u001b[0m\u001b[0m\n\u001b[1;32m    642\u001b[0m         \u001b[0;32mfor\u001b[0m \u001b[0mvar\u001b[0m\u001b[0;34m,\u001b[0m \u001b[0mcls\u001b[0m \u001b[0;32min\u001b[0m \u001b[0mself\u001b[0m\u001b[0;34m.\u001b[0m\u001b[0m_semantic_mappings\u001b[0m\u001b[0;34m.\u001b[0m\u001b[0mitems\u001b[0m\u001b[0;34m(\u001b[0m\u001b[0;34m)\u001b[0m\u001b[0;34m:\u001b[0m\u001b[0;34m\u001b[0m\u001b[0;34m\u001b[0m\u001b[0m\n",
      "\u001b[0;32m/opt/anaconda3/envs/earthseed/lib/python3.7/site-packages/seaborn/_oldcore.py\u001b[0m in \u001b[0;36massign_variables\u001b[0;34m(self, data, variables)\u001b[0m\n\u001b[1;32m    700\u001b[0m             \u001b[0mself\u001b[0m\u001b[0;34m.\u001b[0m\u001b[0minput_format\u001b[0m \u001b[0;34m=\u001b[0m \u001b[0;34m\"long\"\u001b[0m\u001b[0;34m\u001b[0m\u001b[0;34m\u001b[0m\u001b[0m\n\u001b[1;32m    701\u001b[0m             plot_data, variables = self._assign_variables_longform(\n\u001b[0;32m--> 702\u001b[0;31m                 \u001b[0mdata\u001b[0m\u001b[0;34m,\u001b[0m \u001b[0;34m**\u001b[0m\u001b[0mvariables\u001b[0m\u001b[0;34m,\u001b[0m\u001b[0;34m\u001b[0m\u001b[0;34m\u001b[0m\u001b[0m\n\u001b[0m\u001b[1;32m    703\u001b[0m             )\n\u001b[1;32m    704\u001b[0m \u001b[0;34m\u001b[0m\u001b[0m\n",
      "\u001b[0;32m/opt/anaconda3/envs/earthseed/lib/python3.7/site-packages/seaborn/_oldcore.py\u001b[0m in \u001b[0;36m_assign_variables_longform\u001b[0;34m(self, data, **kwargs)\u001b[0m\n\u001b[1;32m    936\u001b[0m \u001b[0;34m\u001b[0m\u001b[0m\n\u001b[1;32m    937\u001b[0m                 \u001b[0merr\u001b[0m \u001b[0;34m=\u001b[0m \u001b[0;34mf\"Could not interpret value `{val}` for parameter `{key}`\"\u001b[0m\u001b[0;34m\u001b[0m\u001b[0;34m\u001b[0m\u001b[0m\n\u001b[0;32m--> 938\u001b[0;31m                 \u001b[0;32mraise\u001b[0m \u001b[0mValueError\u001b[0m\u001b[0;34m(\u001b[0m\u001b[0merr\u001b[0m\u001b[0;34m)\u001b[0m\u001b[0;34m\u001b[0m\u001b[0;34m\u001b[0m\u001b[0m\n\u001b[0m\u001b[1;32m    939\u001b[0m \u001b[0;34m\u001b[0m\u001b[0m\n\u001b[1;32m    940\u001b[0m             \u001b[0;32melse\u001b[0m\u001b[0;34m:\u001b[0m\u001b[0;34m\u001b[0m\u001b[0;34m\u001b[0m\u001b[0m\n",
      "\u001b[0;31mValueError\u001b[0m: Could not interpret value `conservation_status` for parameter `x`"
     ]
    },
    {
     "data": {
      "text/plain": [
       "<Figure size 1440x720 with 0 Axes>"
      ]
     },
     "metadata": {},
     "output_type": "display_data"
    }
   ],
   "source": [
    "plt.figure(figsize=(20,10))\n",
    "ax = sns.displot(data=conserve, x='conservation_status', \\\n",
    "                 hue='category', multiple='stack', height=5, aspect=1.8)\n",
    "# sns.move_legend(ax, \"lower center\", bbox_to_anchor=(.5, 1), ncol=3, title=None, frameon=False)\n",
    "plt.title(\"Conservation Status by Species Category\")\n",
    "plt.xlabel(\"Conservation Status\")\n",
    "plt.show()"
   ]
  },
  {
   "cell_type": "code",
   "execution_count": null,
   "metadata": {},
   "outputs": [],
   "source": [
    "# Group observations by National Park and pivot by park name, species category\n",
    "\n",
    "parks_grouped = conserve.groupby('park_name', as_index=False)\\\n",
    ".agg({'observations': 'sum', 'common_'})\n",
    "\n",
    "parks_grouped = conserve.groupby([\"park_name\", \"category\", \"observations\"]).observations.sum().reset_index()\n",
    "pivot_park = parks_grouped.pivot(columns='park_name', \\\n",
    "                              index='category', values='observations').reset_index()\n",
    "pivot_category = parks_grouped.pivot(columns='category', \\\n",
    "                              index='park_name', values='observations').reset_index()\n",
    "\n",
    "parks_grouped.head()\n",
    "# pivot_park.head()\n",
    "# pivot_category.head()\n",
    "\n",
    "\n",
    "# Join common_names and conservation_status for duplicated scientific_name\n",
    "\n",
    "species_info = species_info.groupby('scientific_name', as_index=False)\\\n",
    ".agg({'common_names': lambda x: ', '.join(x), 'category': 'first', \\\n",
    "      'conservation_status': 'last'})\n",
    "#       'conservation_status': lambda x: ', '.join(x)})\n",
    "\n",
    "print(\"The dataset 'species_info' now contains {} rows and \\\n",
    "{} columns.\".format(species_info.shape[0], species_info.shape[1]))\n",
    "species_info.head()"
   ]
  },
  {
   "cell_type": "code",
   "execution_count": null,
   "metadata": {},
   "outputs": [],
   "source": [
    "# Which national parks take the most observations and what do they observe?\n",
    "# Pivot dataframe\n",
    "\n",
    "pivoted_park = parks_grouped.pivot(columns='park_name', \\\n",
    "                              index='category', values='observations').reset_index()\n",
    "pivoted_park.head()\n",
    "\n",
    "pivoted_category = parks_grouped.pivot(columns='category', \\\n",
    "                              index='park_name', values='observations').reset_index()\n",
    "pivoted_category.head()"
   ]
  },
  {
   "cell_type": "code",
   "execution_count": null,
   "metadata": {},
   "outputs": [],
   "source": [
    "# Which national parks take the most observations and what do they observe?\n",
    "# Plot\n",
    "\n",
    "pivoted_category.plot(x='park_name', kind='bar', rot=0, figsize=(16,6))\n",
    "plt.show()"
   ]
  },
  {
   "cell_type": "code",
   "execution_count": null,
   "metadata": {},
   "outputs": [],
   "source": [
    "# Which national parks take the most observations and what do they observe?\n",
    "# Remove vascular plants\n",
    "\n",
    "pivoted_category = pivoted_category.drop('vascular plant', axis=1)\n",
    "pivoted_category.head()"
   ]
  },
  {
   "cell_type": "code",
   "execution_count": null,
   "metadata": {},
   "outputs": [],
   "source": [
    "# Which national parks take the most observations and what do they observe?\n",
    "# Plot without vascular plants\n",
    "\n",
    "pivoted_category.plot(x='park_name', kind='bar', rot=0, figsize=(16,6))\n",
    "plt.show()"
   ]
  },
  {
   "cell_type": "code",
   "execution_count": null,
   "metadata": {},
   "outputs": [],
   "source": [
    "plt.figure(figsize=(13,6))\n",
    "# plt.bar(parks_grouped.park_name, parks_grouped.observations, color='maroon', edgecolor='k')\n",
    "# sns.countplot(data=parks_grouped, x='park_name', hue='category')\n",
    "ax = sns.displot(data=parks_grouped, x='park_name', \\\n",
    "                 hue='category', multiple='stack', height=5, aspect=1.8)\n",
    "plt.xlabel(\"National Park\")\n",
    "plt.ylabel(\"Number of Observations\")\n",
    "plt.show()\n",
    "\n",
    "\n",
    "plt.figure(figsize=(20,10))\n",
    "ax = sns.displot(data=conserve, x='conservation_status', \\\n",
    "                 hue='category', multiple='stack', height=5, aspect=1.8)\n",
    "# sns.move_legend(ax, \"lower center\", bbox_to_anchor=(.5, 1), ncol=3, title=None, frameon=False)\n",
    "plt.title(\"Conservation Status by Species Category\")\n",
    "plt.xlabel(\"Conservation Status\")\n",
    "plt.show()"
   ]
  },
  {
   "cell_type": "markdown",
   "metadata": {},
   "source": [
    "### Section 4: Analysis of Observations<a id=\"observations\"></a>"
   ]
  },
  {
   "cell_type": "markdown",
   "metadata": {},
   "source": [
    "### Section 5: Analysis of Conservation Status<a id=\"conservation\"></a>"
   ]
  },
  {
   "cell_type": "code",
   "execution_count": null,
   "metadata": {},
   "outputs": [],
   "source": [
    "# What types of conservation status exist?\n",
    "\n",
    "combined.conservation_status.unique()"
   ]
  },
  {
   "cell_type": "code",
   "execution_count": null,
   "metadata": {},
   "outputs": [],
   "source": [
    "# Which categories and species are most flagged for conservation?\n",
    "# Isolate species with conservation status\n",
    "\n",
    "conserve = combined[combined.conservation_status != \"no data\"]\n",
    "conserve.head(50)"
   ]
  },
  {
   "cell_type": "code",
   "execution_count": null,
   "metadata": {},
   "outputs": [],
   "source": [
    "# Which categories and species are most flagged for conservation?\n",
    "# Plot species by conservation type\n",
    "\n",
    "plt.figure(figsize=(20,10))\n",
    "ax = sns.displot(data=conserve, x='conservation_status', \\\n",
    "                 hue='category', multiple='stack', height=5, aspect=1.8)\n",
    "# sns.move_legend(ax, \"lower center\", bbox_to_anchor=(.5, 1), ncol=3, title=None, frameon=False)\n",
    "plt.title(\"Conservation Status by Species Category\")\n",
    "plt.xlabel(\"Conservation Status\")\n",
    "plt.show()\n",
    "\n",
    "\n",
    "# conserve.plot(kind='bar', stacked='True')\n",
    "# sns.countplot(data=conserve, x='conservation_status')\n",
    "\n",
    "# Attempt 1: sns.countplot(data=conserve, x='conservation_status')\n",
    "# Attempt 2: df_plot.plot(kind='bar', stacked=True)\n",
    "# Attempt 3: sns.displot(df, x='survived', hue='class', multiple='stack')"
   ]
  },
  {
   "cell_type": "code",
   "execution_count": null,
   "metadata": {},
   "outputs": [],
   "source": [
    "pivot_park = parks_grouped.pivot(columns='park_name', \\\n",
    "     index='category', values='observations').reset_index()\n",
    "pivot_park.head()"
   ]
  }
 ],
 "metadata": {
  "kernelspec": {
   "display_name": "Earthseed (Python 3)",
   "language": "python",
   "name": "earthseed"
  },
  "language_info": {
   "codemirror_mode": {
    "name": "ipython",
    "version": 3
   },
   "file_extension": ".py",
   "mimetype": "text/x-python",
   "name": "python",
   "nbconvert_exporter": "python",
   "pygments_lexer": "ipython3",
   "version": "3.7.12"
  }
 },
 "nbformat": 4,
 "nbformat_minor": 4
}
