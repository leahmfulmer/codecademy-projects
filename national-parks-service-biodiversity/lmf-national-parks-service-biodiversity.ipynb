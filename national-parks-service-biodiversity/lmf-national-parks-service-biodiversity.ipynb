{
 "cells": [
  {
   "cell_type": "markdown",
   "metadata": {},
   "source": [
    "# National Parks Service Biodiversity\n",
    "Codecademy Portfolio Project by Leah Fulmer ([Github](https://github.com/leahmfulmer))<br>\n",
    "With acknowledgements and gratitude to..."
   ]
  },
  {
   "cell_type": "markdown",
   "metadata": {},
   "source": [
    "#### Project Objectives from Codecademy:\n",
    "\n",
    "* Complete a project to add to your portfolio\n",
    "* Use Jupyter Notebook to communicate findings\n",
    "* Run an analysis on a set of data\n",
    "* Become familiar with data analysis workflow\n",
    "\n",
    "#### Table of Contents : COMPLETE IN POST\n",
    "[Section 1: Loading and Examining the Data](#data)<br>\n",
    "[Section 2: Wrangling and Tidying the Data](#tidy)<br>\n",
    "[Section 3: Questions for Analysis](#questions)<br>\n",
    "[Section 4: Analysis of Observations](#observations)<br>\n",
    "[Section 5: Analysis of Conservation Status](#conservation)<br>\n",
    "[Section 6: Analysis of National Parks](#parks)<br>\n",
    "[Section 7: Resting Place: Where Code Goes to Rest!](#rest)<br>"
   ]
  },
  {
   "cell_type": "markdown",
   "metadata": {},
   "source": [
    "### Section 1: Loading and Examining the Data <a id=\"data\"></a>"
   ]
  },
  {
   "cell_type": "code",
   "execution_count": 1,
   "metadata": {},
   "outputs": [],
   "source": [
    "# Import modules\n",
    "\n",
    "import numpy as np\n",
    "import pandas as pd\n",
    "import matplotlib.pyplot as plt"
   ]
  },
  {
   "cell_type": "code",
   "execution_count": 2,
   "metadata": {},
   "outputs": [],
   "source": [
    "# Load data\n",
    "\n",
    "observations = pd.read_csv(\"observations.csv\")\n",
    "species_info = pd.read_csv(\"species_info.csv\")"
   ]
  },
  {
   "cell_type": "code",
   "execution_count": 3,
   "metadata": {},
   "outputs": [
    {
     "name": "stdout",
     "output_type": "stream",
     "text": [
      "The dataset 'observations' contains 23296 rows and 3 columns.\n"
     ]
    },
    {
     "data": {
      "text/html": [
       "<div>\n",
       "<style scoped>\n",
       "    .dataframe tbody tr th:only-of-type {\n",
       "        vertical-align: middle;\n",
       "    }\n",
       "\n",
       "    .dataframe tbody tr th {\n",
       "        vertical-align: top;\n",
       "    }\n",
       "\n",
       "    .dataframe thead th {\n",
       "        text-align: right;\n",
       "    }\n",
       "</style>\n",
       "<table border=\"1\" class=\"dataframe\">\n",
       "  <thead>\n",
       "    <tr style=\"text-align: right;\">\n",
       "      <th></th>\n",
       "      <th>scientific_name</th>\n",
       "      <th>park_name</th>\n",
       "      <th>observations</th>\n",
       "    </tr>\n",
       "  </thead>\n",
       "  <tbody>\n",
       "    <tr>\n",
       "      <td>0</td>\n",
       "      <td>Vicia benghalensis</td>\n",
       "      <td>Great Smoky Mountains National Park</td>\n",
       "      <td>68</td>\n",
       "    </tr>\n",
       "    <tr>\n",
       "      <td>1</td>\n",
       "      <td>Neovison vison</td>\n",
       "      <td>Great Smoky Mountains National Park</td>\n",
       "      <td>77</td>\n",
       "    </tr>\n",
       "    <tr>\n",
       "      <td>2</td>\n",
       "      <td>Prunus subcordata</td>\n",
       "      <td>Yosemite National Park</td>\n",
       "      <td>138</td>\n",
       "    </tr>\n",
       "    <tr>\n",
       "      <td>3</td>\n",
       "      <td>Abutilon theophrasti</td>\n",
       "      <td>Bryce National Park</td>\n",
       "      <td>84</td>\n",
       "    </tr>\n",
       "    <tr>\n",
       "      <td>4</td>\n",
       "      <td>Githopsis specularioides</td>\n",
       "      <td>Great Smoky Mountains National Park</td>\n",
       "      <td>85</td>\n",
       "    </tr>\n",
       "  </tbody>\n",
       "</table>\n",
       "</div>"
      ],
      "text/plain": [
       "            scientific_name                            park_name  observations\n",
       "0        Vicia benghalensis  Great Smoky Mountains National Park            68\n",
       "1            Neovison vison  Great Smoky Mountains National Park            77\n",
       "2         Prunus subcordata               Yosemite National Park           138\n",
       "3      Abutilon theophrasti                  Bryce National Park            84\n",
       "4  Githopsis specularioides  Great Smoky Mountains National Park            85"
      ]
     },
     "execution_count": 3,
     "metadata": {},
     "output_type": "execute_result"
    }
   ],
   "source": [
    "# Examine observations\n",
    "\n",
    "print(\"The dataset 'observations' contains {} rows and \\\n",
    "{} columns.\".format(observations.shape[0], observations.shape[1]))\n",
    "\n",
    "observations.head()\n",
    "# observations.count()"
   ]
  },
  {
   "cell_type": "code",
   "execution_count": 4,
   "metadata": {},
   "outputs": [
    {
     "name": "stdout",
     "output_type": "stream",
     "text": [
      "The dataset 'species_info' contains 5824 rows and 4 columns.\n"
     ]
    },
    {
     "data": {
      "text/html": [
       "<div>\n",
       "<style scoped>\n",
       "    .dataframe tbody tr th:only-of-type {\n",
       "        vertical-align: middle;\n",
       "    }\n",
       "\n",
       "    .dataframe tbody tr th {\n",
       "        vertical-align: top;\n",
       "    }\n",
       "\n",
       "    .dataframe thead th {\n",
       "        text-align: right;\n",
       "    }\n",
       "</style>\n",
       "<table border=\"1\" class=\"dataframe\">\n",
       "  <thead>\n",
       "    <tr style=\"text-align: right;\">\n",
       "      <th></th>\n",
       "      <th>category</th>\n",
       "      <th>scientific_name</th>\n",
       "      <th>common_names</th>\n",
       "      <th>conservation_status</th>\n",
       "    </tr>\n",
       "  </thead>\n",
       "  <tbody>\n",
       "    <tr>\n",
       "      <td>0</td>\n",
       "      <td>Mammal</td>\n",
       "      <td>Clethrionomys gapperi gapperi</td>\n",
       "      <td>Gapper's Red-Backed Vole</td>\n",
       "      <td>NaN</td>\n",
       "    </tr>\n",
       "    <tr>\n",
       "      <td>1</td>\n",
       "      <td>Mammal</td>\n",
       "      <td>Bos bison</td>\n",
       "      <td>American Bison, Bison</td>\n",
       "      <td>NaN</td>\n",
       "    </tr>\n",
       "    <tr>\n",
       "      <td>2</td>\n",
       "      <td>Mammal</td>\n",
       "      <td>Bos taurus</td>\n",
       "      <td>Aurochs, Aurochs, Domestic Cattle (Feral), Dom...</td>\n",
       "      <td>NaN</td>\n",
       "    </tr>\n",
       "    <tr>\n",
       "      <td>3</td>\n",
       "      <td>Mammal</td>\n",
       "      <td>Ovis aries</td>\n",
       "      <td>Domestic Sheep, Mouflon, Red Sheep, Sheep (Feral)</td>\n",
       "      <td>NaN</td>\n",
       "    </tr>\n",
       "    <tr>\n",
       "      <td>4</td>\n",
       "      <td>Mammal</td>\n",
       "      <td>Cervus elaphus</td>\n",
       "      <td>Wapiti Or Elk</td>\n",
       "      <td>NaN</td>\n",
       "    </tr>\n",
       "  </tbody>\n",
       "</table>\n",
       "</div>"
      ],
      "text/plain": [
       "  category                scientific_name  \\\n",
       "0   Mammal  Clethrionomys gapperi gapperi   \n",
       "1   Mammal                      Bos bison   \n",
       "2   Mammal                     Bos taurus   \n",
       "3   Mammal                     Ovis aries   \n",
       "4   Mammal                 Cervus elaphus   \n",
       "\n",
       "                                        common_names conservation_status  \n",
       "0                           Gapper's Red-Backed Vole                 NaN  \n",
       "1                              American Bison, Bison                 NaN  \n",
       "2  Aurochs, Aurochs, Domestic Cattle (Feral), Dom...                 NaN  \n",
       "3  Domestic Sheep, Mouflon, Red Sheep, Sheep (Feral)                 NaN  \n",
       "4                                      Wapiti Or Elk                 NaN  "
      ]
     },
     "execution_count": 4,
     "metadata": {},
     "output_type": "execute_result"
    }
   ],
   "source": [
    "# Examine species_info\n",
    "\n",
    "print(\"The dataset 'species_info' contains {} rows and \\\n",
    "{} columns.\".format(species_info.shape[0], species_info.shape[1]))\n",
    "\n",
    "species_info.head()\n",
    "# species_info.count()"
   ]
  },
  {
   "cell_type": "markdown",
   "metadata": {},
   "source": [
    "### Section 2: Wrangling and Tidying the Data<a id=\"tidy\"></a>"
   ]
  },
  {
   "cell_type": "markdown",
   "metadata": {},
   "source": [
    "#### All Datasets"
   ]
  },
  {
   "cell_type": "code",
   "execution_count": 5,
   "metadata": {},
   "outputs": [],
   "source": [
    "# Make all rows with strings lower case\n",
    "\n",
    "def make_lower_case(df):\n",
    "    for column in df.columns:\n",
    "        if type(df[column][0]) != np.int64:\n",
    "            df[column] = df[column].apply(lambda x: x.lower() if type(x) != np.float else x)\n",
    "\n",
    "make_lower_case(observations)\n",
    "make_lower_case(species_info)"
   ]
  },
  {
   "cell_type": "markdown",
   "metadata": {},
   "source": [
    "#### Observations"
   ]
  },
  {
   "cell_type": "code",
   "execution_count": 6,
   "metadata": {},
   "outputs": [
    {
     "name": "stdout",
     "output_type": "stream",
     "text": [
      "The dataset 'observations' now contains 23281 rows and 3 columns.\n"
     ]
    }
   ],
   "source": [
    "# Drop completely-duplicated rows\n",
    "\n",
    "observations.drop_duplicates(subset=['scientific_name', 'park_name', 'observations'], inplace=True)\n",
    "print(\"The dataset 'observations' now contains {} rows and \\\n",
    "{} columns.\".format(observations.shape[0], observations.shape[1]))"
   ]
  },
  {
   "cell_type": "code",
   "execution_count": 7,
   "metadata": {},
   "outputs": [
    {
     "name": "stdout",
     "output_type": "stream",
     "text": [
      "The dataset 'observations' now contains 22164 rows and 3 columns.\n"
     ]
    }
   ],
   "source": [
    "# Sum observational instances for rows with duplicated scientific_name and park_name \n",
    "\n",
    "observations = observations.groupby(['scientific_name', 'park_name'])['observations'].sum().reset_index()\n",
    "print(\"The dataset 'observations' now contains {} rows and \\\n",
    "{} columns.\".format(observations.shape[0], observations.shape[1]))"
   ]
  },
  {
   "cell_type": "markdown",
   "metadata": {},
   "source": [
    "#### Species_info"
   ]
  },
  {
   "cell_type": "code",
   "execution_count": 8,
   "metadata": {},
   "outputs": [
    {
     "name": "stdout",
     "output_type": "stream",
     "text": [
      "There are 283 rows with the same scientific_name in 'species_info'.\n",
      "Therefore, we expect our tidy 'species_info' dataset to contain 5541 rows.\n"
     ]
    }
   ],
   "source": [
    "# Count how many rows we expect in our tidy species_info dataset\n",
    "\n",
    "duplicates = species_info[species_info.duplicated(subset=['scientific_name'])]\n",
    "print(\"There are {} rows with the same scientific_name in 'species_info'.\"\\\n",
    "      .format(duplicates.shape[0]))\n",
    "print(\"Therefore, we expect our tidy 'species_info' dataset to contain {} rows.\"\\\n",
    "      .format(species_info.shape[0] - duplicates.shape[0]))"
   ]
  },
  {
   "cell_type": "code",
   "execution_count": 9,
   "metadata": {},
   "outputs": [],
   "source": [
    "# Replace NaN values with \"no data\"\n",
    "\n",
    "species_info.conservation_status = species_info.conservation_status.fillna(\"no data\")"
   ]
  },
  {
   "cell_type": "code",
   "execution_count": 10,
   "metadata": {},
   "outputs": [
    {
     "name": "stdout",
     "output_type": "stream",
     "text": [
      "The dataset 'species_info' now contains 5541 rows and 4 columns.\n"
     ]
    },
    {
     "data": {
      "text/html": [
       "<div>\n",
       "<style scoped>\n",
       "    .dataframe tbody tr th:only-of-type {\n",
       "        vertical-align: middle;\n",
       "    }\n",
       "\n",
       "    .dataframe tbody tr th {\n",
       "        vertical-align: top;\n",
       "    }\n",
       "\n",
       "    .dataframe thead th {\n",
       "        text-align: right;\n",
       "    }\n",
       "</style>\n",
       "<table border=\"1\" class=\"dataframe\">\n",
       "  <thead>\n",
       "    <tr style=\"text-align: right;\">\n",
       "      <th></th>\n",
       "      <th>scientific_name</th>\n",
       "      <th>common_names</th>\n",
       "      <th>category</th>\n",
       "      <th>conservation_status</th>\n",
       "    </tr>\n",
       "  </thead>\n",
       "  <tbody>\n",
       "    <tr>\n",
       "      <td>0</td>\n",
       "      <td>abies bifolia</td>\n",
       "      <td>rocky mountain alpine fir</td>\n",
       "      <td>vascular plant</td>\n",
       "      <td>no data</td>\n",
       "    </tr>\n",
       "    <tr>\n",
       "      <td>1</td>\n",
       "      <td>abies concolor</td>\n",
       "      <td>balsam fir, colorado fir, concolor fir, silver...</td>\n",
       "      <td>vascular plant</td>\n",
       "      <td>no data</td>\n",
       "    </tr>\n",
       "    <tr>\n",
       "      <td>2</td>\n",
       "      <td>abies fraseri</td>\n",
       "      <td>fraser fir</td>\n",
       "      <td>vascular plant</td>\n",
       "      <td>species of concern</td>\n",
       "    </tr>\n",
       "    <tr>\n",
       "      <td>3</td>\n",
       "      <td>abietinella abietina</td>\n",
       "      <td>abietinella moss</td>\n",
       "      <td>nonvascular plant</td>\n",
       "      <td>no data</td>\n",
       "    </tr>\n",
       "    <tr>\n",
       "      <td>4</td>\n",
       "      <td>abronia ammophila</td>\n",
       "      <td>wyoming sand verbena, yellowstone sand verbena</td>\n",
       "      <td>vascular plant</td>\n",
       "      <td>species of concern</td>\n",
       "    </tr>\n",
       "  </tbody>\n",
       "</table>\n",
       "</div>"
      ],
      "text/plain": [
       "        scientific_name                                       common_names  \\\n",
       "0         abies bifolia                          rocky mountain alpine fir   \n",
       "1        abies concolor  balsam fir, colorado fir, concolor fir, silver...   \n",
       "2         abies fraseri                                         fraser fir   \n",
       "3  abietinella abietina                                   abietinella moss   \n",
       "4     abronia ammophila     wyoming sand verbena, yellowstone sand verbena   \n",
       "\n",
       "            category conservation_status  \n",
       "0     vascular plant             no data  \n",
       "1     vascular plant             no data  \n",
       "2     vascular plant  species of concern  \n",
       "3  nonvascular plant             no data  \n",
       "4     vascular plant  species of concern  "
      ]
     },
     "execution_count": 10,
     "metadata": {},
     "output_type": "execute_result"
    }
   ],
   "source": [
    "# Join common_names and conservation_status for duplicated scientific_name\n",
    "\n",
    "species_info = species_info.groupby('scientific_name', as_index=False)\\\n",
    ".agg({'common_names': lambda x: ', '.join(x), 'category': 'first', \\\n",
    "      'conservation_status': 'last'})\n",
    "#       'conservation_status': lambda x: ', '.join(x)})\n",
    "\n",
    "print(\"The dataset 'species_info' now contains {} rows and \\\n",
    "{} columns.\".format(species_info.shape[0], species_info.shape[1]))\n",
    "species_info.head()"
   ]
  },
  {
   "cell_type": "markdown",
   "metadata": {},
   "source": [
    "#### Merge"
   ]
  },
  {
   "cell_type": "code",
   "execution_count": 12,
   "metadata": {},
   "outputs": [
    {
     "name": "stdout",
     "output_type": "stream",
     "text": [
      "The dataset 'combined' contains 22164 rows and 6 columns.\n"
     ]
    },
    {
     "data": {
      "text/html": [
       "<div>\n",
       "<style scoped>\n",
       "    .dataframe tbody tr th:only-of-type {\n",
       "        vertical-align: middle;\n",
       "    }\n",
       "\n",
       "    .dataframe tbody tr th {\n",
       "        vertical-align: top;\n",
       "    }\n",
       "\n",
       "    .dataframe thead th {\n",
       "        text-align: right;\n",
       "    }\n",
       "</style>\n",
       "<table border=\"1\" class=\"dataframe\">\n",
       "  <thead>\n",
       "    <tr style=\"text-align: right;\">\n",
       "      <th></th>\n",
       "      <th>scientific_name</th>\n",
       "      <th>park_name</th>\n",
       "      <th>observations</th>\n",
       "      <th>common_names</th>\n",
       "      <th>category</th>\n",
       "      <th>conservation_status</th>\n",
       "    </tr>\n",
       "  </thead>\n",
       "  <tbody>\n",
       "    <tr>\n",
       "      <td>0</td>\n",
       "      <td>abies bifolia</td>\n",
       "      <td>bryce national park</td>\n",
       "      <td>109</td>\n",
       "      <td>rocky mountain alpine fir</td>\n",
       "      <td>vascular plant</td>\n",
       "      <td>no data</td>\n",
       "    </tr>\n",
       "    <tr>\n",
       "      <td>1</td>\n",
       "      <td>abies bifolia</td>\n",
       "      <td>great smoky mountains national park</td>\n",
       "      <td>72</td>\n",
       "      <td>rocky mountain alpine fir</td>\n",
       "      <td>vascular plant</td>\n",
       "      <td>no data</td>\n",
       "    </tr>\n",
       "    <tr>\n",
       "      <td>2</td>\n",
       "      <td>abies bifolia</td>\n",
       "      <td>yellowstone national park</td>\n",
       "      <td>215</td>\n",
       "      <td>rocky mountain alpine fir</td>\n",
       "      <td>vascular plant</td>\n",
       "      <td>no data</td>\n",
       "    </tr>\n",
       "    <tr>\n",
       "      <td>3</td>\n",
       "      <td>abies bifolia</td>\n",
       "      <td>yosemite national park</td>\n",
       "      <td>136</td>\n",
       "      <td>rocky mountain alpine fir</td>\n",
       "      <td>vascular plant</td>\n",
       "      <td>no data</td>\n",
       "    </tr>\n",
       "    <tr>\n",
       "      <td>4</td>\n",
       "      <td>abies concolor</td>\n",
       "      <td>bryce national park</td>\n",
       "      <td>83</td>\n",
       "      <td>balsam fir, colorado fir, concolor fir, silver...</td>\n",
       "      <td>vascular plant</td>\n",
       "      <td>no data</td>\n",
       "    </tr>\n",
       "  </tbody>\n",
       "</table>\n",
       "</div>"
      ],
      "text/plain": [
       "  scientific_name                            park_name  observations  \\\n",
       "0   abies bifolia                  bryce national park           109   \n",
       "1   abies bifolia  great smoky mountains national park            72   \n",
       "2   abies bifolia            yellowstone national park           215   \n",
       "3   abies bifolia               yosemite national park           136   \n",
       "4  abies concolor                  bryce national park            83   \n",
       "\n",
       "                                        common_names        category  \\\n",
       "0                          rocky mountain alpine fir  vascular plant   \n",
       "1                          rocky mountain alpine fir  vascular plant   \n",
       "2                          rocky mountain alpine fir  vascular plant   \n",
       "3                          rocky mountain alpine fir  vascular plant   \n",
       "4  balsam fir, colorado fir, concolor fir, silver...  vascular plant   \n",
       "\n",
       "  conservation_status  \n",
       "0             no data  \n",
       "1             no data  \n",
       "2             no data  \n",
       "3             no data  \n",
       "4             no data  "
      ]
     },
     "execution_count": 12,
     "metadata": {},
     "output_type": "execute_result"
    }
   ],
   "source": [
    "# Combine 'observations' and 'species_info'\n",
    "\n",
    "combined = pd.merge(observations, species_info, on = ['scientific_name'], how = 'left')\n",
    "\n",
    "print(\"The dataset 'combined' contains {} rows and \\\n",
    "{} columns.\".format(combined.shape[0], combined.shape[1]))\n",
    "combined.head()"
   ]
  },
  {
   "cell_type": "markdown",
   "metadata": {},
   "source": [
    "#### Separate by National Park"
   ]
  },
  {
   "cell_type": "code",
   "execution_count": 13,
   "metadata": {},
   "outputs": [],
   "source": [
    "# Create unique dataframes for each National Park\n",
    "\n",
    "def isolate(park_name):\n",
    "    df = combined[combined.park_name == park_name]\n",
    "    return df\n",
    "\n",
    "bryce = isolate(\"bryce national park\")\n",
    "great_smoky_mountains = isolate(\"great smoky mountains national park\")\n",
    "yellowstone = isolate(\"yellowstone national park\")\n",
    "yosemite = isolate(\"yosemite national park\")"
   ]
  },
  {
   "cell_type": "markdown",
   "metadata": {},
   "source": [
    "### Section 3: Questions for Analysis<a id=\"questions\"></a><br>\n",
    "\n",
    "\n",
    "**Observations:**\n",
    "* Which categories or species are observed most?\n",
    "* Do number of observations correlate with any other property (e.g., category, conservation_status)?\n",
    "\n",
    "**Conservation Status:**\n",
    "* What types of conservation status exist?\n",
    "* Which categories and species are most flagged for conservation?\n",
    "\n",
    "**National Parks:**\n",
    "* Does the number of observations vary across national park?\n",
    "* Which national park contains the most species flagged for conservation?"
   ]
  },
  {
   "cell_type": "markdown",
   "metadata": {},
   "source": [
    "### Section 4: Analysis of Observations<a id=\"observations\"></a>"
   ]
  },
  {
   "cell_type": "markdown",
   "metadata": {},
   "source": [
    "### Section 5: Analysis of Conservation Status<a id=\"conservation\"></a>"
   ]
  },
  {
   "cell_type": "code",
   "execution_count": 14,
   "metadata": {},
   "outputs": [
    {
     "data": {
      "text/plain": [
       "array(['no data', 'species of concern', 'threatened', 'endangered',\n",
       "       'in recovery'], dtype=object)"
      ]
     },
     "execution_count": 14,
     "metadata": {},
     "output_type": "execute_result"
    }
   ],
   "source": [
    "# What types of conservation status exist?\n",
    "\n",
    "combined.conservation_status.unique()"
   ]
  },
  {
   "cell_type": "code",
   "execution_count": null,
   "metadata": {},
   "outputs": [],
   "source": [
    "# Which categories and species are most flagged for conservation?\n",
    "\n"
   ]
  },
  {
   "cell_type": "markdown",
   "metadata": {},
   "source": [
    "### Section 6: Analysis of National Parks<a id=\"parks\"></a>"
   ]
  },
  {
   "cell_type": "code",
   "execution_count": null,
   "metadata": {},
   "outputs": [],
   "source": []
  }
 ],
 "metadata": {
  "kernelspec": {
   "display_name": "./anaconda3/share/jupyter/kernels/python3/",
   "language": "python",
   "name": "python3"
  },
  "language_info": {
   "codemirror_mode": {
    "name": "ipython",
    "version": 3
   },
   "file_extension": ".py",
   "mimetype": "text/x-python",
   "name": "python",
   "nbconvert_exporter": "python",
   "pygments_lexer": "ipython3",
   "version": "3.7.4"
  }
 },
 "nbformat": 4,
 "nbformat_minor": 4
}
