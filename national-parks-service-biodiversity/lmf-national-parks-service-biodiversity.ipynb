{
 "cells": [
  {
   "cell_type": "markdown",
   "metadata": {},
   "source": [
    "# National Parks Service Biodiversity Portfolio Project\n",
    "Codecademy Portfolio Project by Leah Fulmer ([Github](https://github.com/leahmfulmer))<br>\n",
    "With gratitude to Jean Lawlis ([GitHub](https://github.com/JHLinMaine)) and Ian Wood ([GitHub](https://github.com/pineapple-bois))"
   ]
  },
  {
   "cell_type": "markdown",
   "metadata": {},
   "source": [
    "#### Project Objectives:\n",
    "\n",
    "* Interpret data about plant and animal observations by the National Park Service.\n",
    "* Demonstrate profiency in data wrangling, analysis, and communication.\n",
    "* Give recommendations through [Google Slides presentation](https://docs.google.com/presentation/d/12Oe1TFlzyTFNkMDYnkl5vthL3dwCx-ATYFMRU4YalM8/edit?usp=sharing)."
   ]
  },
  {
   "cell_type": "markdown",
   "metadata": {},
   "source": [
    "#### Table of Contents :\n",
    "[Section 1: Loading and Examining the Data](#data)<br>\n",
    "[Section 2: Wrangling and Tidying the Data](#tidy)<br>\n",
    "[Section 3: Questions for Analysis](#questions)<br>\n",
    "[Section 4: Data Distributions](#distributions)<br>\n",
    "[Section 5: Conservation Analysis](#conservation)<br>\n",
    "[Section 6: Conclusions](#conclusions)<br>"
   ]
  },
  {
   "cell_type": "markdown",
   "metadata": {},
   "source": [
    "### Section 1: Loading and Examining the Data <a id=\"data\"></a>"
   ]
  },
  {
   "cell_type": "code",
   "execution_count": 2,
   "metadata": {},
   "outputs": [],
   "source": [
    "# Import modules\n",
    "\n",
    "import numpy as np\n",
    "import pandas as pd\n",
    "import seaborn as sns\n",
    "import matplotlib.pyplot as plt"
   ]
  },
  {
   "cell_type": "code",
   "execution_count": 3,
   "metadata": {},
   "outputs": [],
   "source": [
    "# Load data\n",
    "\n",
    "observations = pd.read_csv(\"observations.csv\")\n",
    "species_info = pd.read_csv(\"species_info.csv\")"
   ]
  },
  {
   "cell_type": "code",
   "execution_count": 4,
   "metadata": {},
   "outputs": [
    {
     "name": "stdout",
     "output_type": "stream",
     "text": [
      "The dataset 'observations' contains 23296 rows and 3 columns.\n"
     ]
    },
    {
     "data": {
      "text/html": [
       "<div>\n",
       "<style scoped>\n",
       "    .dataframe tbody tr th:only-of-type {\n",
       "        vertical-align: middle;\n",
       "    }\n",
       "\n",
       "    .dataframe tbody tr th {\n",
       "        vertical-align: top;\n",
       "    }\n",
       "\n",
       "    .dataframe thead th {\n",
       "        text-align: right;\n",
       "    }\n",
       "</style>\n",
       "<table border=\"1\" class=\"dataframe\">\n",
       "  <thead>\n",
       "    <tr style=\"text-align: right;\">\n",
       "      <th></th>\n",
       "      <th>scientific_name</th>\n",
       "      <th>park_name</th>\n",
       "      <th>observations</th>\n",
       "    </tr>\n",
       "  </thead>\n",
       "  <tbody>\n",
       "    <tr>\n",
       "      <th>0</th>\n",
       "      <td>Vicia benghalensis</td>\n",
       "      <td>Great Smoky Mountains National Park</td>\n",
       "      <td>68</td>\n",
       "    </tr>\n",
       "    <tr>\n",
       "      <th>1</th>\n",
       "      <td>Neovison vison</td>\n",
       "      <td>Great Smoky Mountains National Park</td>\n",
       "      <td>77</td>\n",
       "    </tr>\n",
       "    <tr>\n",
       "      <th>2</th>\n",
       "      <td>Prunus subcordata</td>\n",
       "      <td>Yosemite National Park</td>\n",
       "      <td>138</td>\n",
       "    </tr>\n",
       "    <tr>\n",
       "      <th>3</th>\n",
       "      <td>Abutilon theophrasti</td>\n",
       "      <td>Bryce National Park</td>\n",
       "      <td>84</td>\n",
       "    </tr>\n",
       "    <tr>\n",
       "      <th>4</th>\n",
       "      <td>Githopsis specularioides</td>\n",
       "      <td>Great Smoky Mountains National Park</td>\n",
       "      <td>85</td>\n",
       "    </tr>\n",
       "  </tbody>\n",
       "</table>\n",
       "</div>"
      ],
      "text/plain": [
       "            scientific_name                            park_name  observations\n",
       "0        Vicia benghalensis  Great Smoky Mountains National Park            68\n",
       "1            Neovison vison  Great Smoky Mountains National Park            77\n",
       "2         Prunus subcordata               Yosemite National Park           138\n",
       "3      Abutilon theophrasti                  Bryce National Park            84\n",
       "4  Githopsis specularioides  Great Smoky Mountains National Park            85"
      ]
     },
     "execution_count": 4,
     "metadata": {},
     "output_type": "execute_result"
    }
   ],
   "source": [
    "# Examine observations\n",
    "\n",
    "print(\"The dataset 'observations' contains {} rows and \\\n",
    "{} columns.\".format(observations.shape[0], observations.shape[1]))\n",
    "\n",
    "observations.head()\n",
    "# observations.count()"
   ]
  },
  {
   "cell_type": "code",
   "execution_count": 5,
   "metadata": {},
   "outputs": [
    {
     "name": "stdout",
     "output_type": "stream",
     "text": [
      "The dataset 'species_info' contains 5824 rows and 4 columns.\n"
     ]
    },
    {
     "data": {
      "text/html": [
       "<div>\n",
       "<style scoped>\n",
       "    .dataframe tbody tr th:only-of-type {\n",
       "        vertical-align: middle;\n",
       "    }\n",
       "\n",
       "    .dataframe tbody tr th {\n",
       "        vertical-align: top;\n",
       "    }\n",
       "\n",
       "    .dataframe thead th {\n",
       "        text-align: right;\n",
       "    }\n",
       "</style>\n",
       "<table border=\"1\" class=\"dataframe\">\n",
       "  <thead>\n",
       "    <tr style=\"text-align: right;\">\n",
       "      <th></th>\n",
       "      <th>category</th>\n",
       "      <th>scientific_name</th>\n",
       "      <th>common_names</th>\n",
       "      <th>conservation_status</th>\n",
       "    </tr>\n",
       "  </thead>\n",
       "  <tbody>\n",
       "    <tr>\n",
       "      <th>0</th>\n",
       "      <td>Mammal</td>\n",
       "      <td>Clethrionomys gapperi gapperi</td>\n",
       "      <td>Gapper's Red-Backed Vole</td>\n",
       "      <td>NaN</td>\n",
       "    </tr>\n",
       "    <tr>\n",
       "      <th>1</th>\n",
       "      <td>Mammal</td>\n",
       "      <td>Bos bison</td>\n",
       "      <td>American Bison, Bison</td>\n",
       "      <td>NaN</td>\n",
       "    </tr>\n",
       "    <tr>\n",
       "      <th>2</th>\n",
       "      <td>Mammal</td>\n",
       "      <td>Bos taurus</td>\n",
       "      <td>Aurochs, Aurochs, Domestic Cattle (Feral), Dom...</td>\n",
       "      <td>NaN</td>\n",
       "    </tr>\n",
       "    <tr>\n",
       "      <th>3</th>\n",
       "      <td>Mammal</td>\n",
       "      <td>Ovis aries</td>\n",
       "      <td>Domestic Sheep, Mouflon, Red Sheep, Sheep (Feral)</td>\n",
       "      <td>NaN</td>\n",
       "    </tr>\n",
       "    <tr>\n",
       "      <th>4</th>\n",
       "      <td>Mammal</td>\n",
       "      <td>Cervus elaphus</td>\n",
       "      <td>Wapiti Or Elk</td>\n",
       "      <td>NaN</td>\n",
       "    </tr>\n",
       "  </tbody>\n",
       "</table>\n",
       "</div>"
      ],
      "text/plain": [
       "  category                scientific_name  \\\n",
       "0   Mammal  Clethrionomys gapperi gapperi   \n",
       "1   Mammal                      Bos bison   \n",
       "2   Mammal                     Bos taurus   \n",
       "3   Mammal                     Ovis aries   \n",
       "4   Mammal                 Cervus elaphus   \n",
       "\n",
       "                                        common_names conservation_status  \n",
       "0                           Gapper's Red-Backed Vole                 NaN  \n",
       "1                              American Bison, Bison                 NaN  \n",
       "2  Aurochs, Aurochs, Domestic Cattle (Feral), Dom...                 NaN  \n",
       "3  Domestic Sheep, Mouflon, Red Sheep, Sheep (Feral)                 NaN  \n",
       "4                                      Wapiti Or Elk                 NaN  "
      ]
     },
     "execution_count": 5,
     "metadata": {},
     "output_type": "execute_result"
    }
   ],
   "source": [
    "# Examine species_info\n",
    "\n",
    "print(\"The dataset 'species_info' contains {} rows and \\\n",
    "{} columns.\".format(species_info.shape[0], species_info.shape[1]))\n",
    "\n",
    "species_info.head()\n",
    "# species_info.count()"
   ]
  },
  {
   "cell_type": "markdown",
   "metadata": {},
   "source": [
    "### Section 2: Wrangling and Tidying the Data<a id=\"tidy\"></a>"
   ]
  },
  {
   "cell_type": "markdown",
   "metadata": {},
   "source": [
    "#### All Datasets"
   ]
  },
  {
   "cell_type": "code",
   "execution_count": 6,
   "metadata": {},
   "outputs": [],
   "source": [
    "# Make all rows with strings lower case\n",
    "\n",
    "def make_lower_case(df):\n",
    "    for column in df.columns:\n",
    "        if type(df[column][0]) != np.int64:\n",
    "            df[column] = df[column].apply(lambda x: x.lower() if type(x) != float else x)\n",
    "\n",
    "make_lower_case(observations)\n",
    "make_lower_case(species_info)"
   ]
  },
  {
   "cell_type": "markdown",
   "metadata": {},
   "source": [
    "#### Observations"
   ]
  },
  {
   "cell_type": "code",
   "execution_count": 7,
   "metadata": {},
   "outputs": [
    {
     "name": "stdout",
     "output_type": "stream",
     "text": [
      "The dataset 'observations' now contains 23281 rows and 3 columns.\n"
     ]
    }
   ],
   "source": [
    "# Drop completely-duplicated rows\n",
    "\n",
    "observations.drop_duplicates(subset=['scientific_name', 'park_name', 'observations'], inplace=True)\n",
    "print(\"The dataset 'observations' now contains {} rows and \\\n",
    "{} columns.\".format(observations.shape[0], observations.shape[1]))"
   ]
  },
  {
   "cell_type": "code",
   "execution_count": 31,
   "metadata": {},
   "outputs": [
    {
     "name": "stdout",
     "output_type": "stream",
     "text": [
      "The dataset 'observations' now contains 22164 rows and 3 columns.\n"
     ]
    },
    {
     "data": {
      "text/html": [
       "<div>\n",
       "<style scoped>\n",
       "    .dataframe tbody tr th:only-of-type {\n",
       "        vertical-align: middle;\n",
       "    }\n",
       "\n",
       "    .dataframe tbody tr th {\n",
       "        vertical-align: top;\n",
       "    }\n",
       "\n",
       "    .dataframe thead th {\n",
       "        text-align: right;\n",
       "    }\n",
       "</style>\n",
       "<table border=\"1\" class=\"dataframe\">\n",
       "  <thead>\n",
       "    <tr style=\"text-align: right;\">\n",
       "      <th></th>\n",
       "      <th>scientific_name</th>\n",
       "      <th>park_name</th>\n",
       "      <th>observations</th>\n",
       "    </tr>\n",
       "  </thead>\n",
       "  <tbody>\n",
       "    <tr>\n",
       "      <th>0</th>\n",
       "      <td>abies bifolia</td>\n",
       "      <td>bryce national park</td>\n",
       "      <td>109</td>\n",
       "    </tr>\n",
       "    <tr>\n",
       "      <th>1</th>\n",
       "      <td>abies bifolia</td>\n",
       "      <td>great smoky mountains national park</td>\n",
       "      <td>72</td>\n",
       "    </tr>\n",
       "    <tr>\n",
       "      <th>2</th>\n",
       "      <td>abies bifolia</td>\n",
       "      <td>yellowstone national park</td>\n",
       "      <td>215</td>\n",
       "    </tr>\n",
       "    <tr>\n",
       "      <th>3</th>\n",
       "      <td>abies bifolia</td>\n",
       "      <td>yosemite national park</td>\n",
       "      <td>136</td>\n",
       "    </tr>\n",
       "    <tr>\n",
       "      <th>4</th>\n",
       "      <td>abies concolor</td>\n",
       "      <td>bryce national park</td>\n",
       "      <td>83</td>\n",
       "    </tr>\n",
       "  </tbody>\n",
       "</table>\n",
       "</div>"
      ],
      "text/plain": [
       "  scientific_name                            park_name  observations\n",
       "0   abies bifolia                  bryce national park           109\n",
       "1   abies bifolia  great smoky mountains national park            72\n",
       "2   abies bifolia            yellowstone national park           215\n",
       "3   abies bifolia               yosemite national park           136\n",
       "4  abies concolor                  bryce national park            83"
      ]
     },
     "execution_count": 31,
     "metadata": {},
     "output_type": "execute_result"
    }
   ],
   "source": [
    "# Sum observational instances for rows with duplicated scientific_name and park_name \n",
    "\n",
    "observations = observations.groupby(['scientific_name', 'park_name'])['observations'].sum().reset_index()\n",
    "print(\"The dataset 'observations' now contains {} rows and \\\n",
    "{} columns.\".format(observations.shape[0], observations.shape[1]))\n",
    "\n",
    "observations.head()"
   ]
  },
  {
   "cell_type": "markdown",
   "metadata": {},
   "source": [
    "#### Species_info"
   ]
  },
  {
   "cell_type": "code",
   "execution_count": 9,
   "metadata": {},
   "outputs": [
    {
     "name": "stdout",
     "output_type": "stream",
     "text": [
      "There are 283 rows with the same scientific_name in 'species_info'.\n",
      "Therefore, we expect our tidy 'species_info' dataset to contain 5541 rows.\n"
     ]
    }
   ],
   "source": [
    "# Count how many rows we expect in our tidy species_info dataset\n",
    "\n",
    "duplicates = species_info[species_info.duplicated(subset=['scientific_name'])]\n",
    "print(\"There are {} rows with the same scientific_name in 'species_info'.\"\\\n",
    "      .format(duplicates.shape[0]))\n",
    "print(\"Therefore, we expect our tidy 'species_info' dataset to contain {} rows.\"\\\n",
    "      .format(species_info.shape[0] - duplicates.shape[0]))"
   ]
  },
  {
   "cell_type": "code",
   "execution_count": 10,
   "metadata": {},
   "outputs": [],
   "source": [
    "# Replace NaN values with \"no data\"\n",
    "\n",
    "species_info.conservation_status = species_info.conservation_status.fillna(\"no data\")"
   ]
  },
  {
   "cell_type": "code",
   "execution_count": 11,
   "metadata": {},
   "outputs": [
    {
     "name": "stdout",
     "output_type": "stream",
     "text": [
      "The dataset 'species_info' now contains 5541 rows and 4 columns.\n"
     ]
    },
    {
     "data": {
      "text/html": [
       "<div>\n",
       "<style scoped>\n",
       "    .dataframe tbody tr th:only-of-type {\n",
       "        vertical-align: middle;\n",
       "    }\n",
       "\n",
       "    .dataframe tbody tr th {\n",
       "        vertical-align: top;\n",
       "    }\n",
       "\n",
       "    .dataframe thead th {\n",
       "        text-align: right;\n",
       "    }\n",
       "</style>\n",
       "<table border=\"1\" class=\"dataframe\">\n",
       "  <thead>\n",
       "    <tr style=\"text-align: right;\">\n",
       "      <th></th>\n",
       "      <th>scientific_name</th>\n",
       "      <th>common_names</th>\n",
       "      <th>category</th>\n",
       "      <th>conservation_status</th>\n",
       "    </tr>\n",
       "  </thead>\n",
       "  <tbody>\n",
       "    <tr>\n",
       "      <th>0</th>\n",
       "      <td>abies bifolia</td>\n",
       "      <td>rocky mountain alpine fir</td>\n",
       "      <td>vascular plant</td>\n",
       "      <td>no data</td>\n",
       "    </tr>\n",
       "    <tr>\n",
       "      <th>1</th>\n",
       "      <td>abies concolor</td>\n",
       "      <td>balsam fir, colorado fir, concolor fir, silver...</td>\n",
       "      <td>vascular plant</td>\n",
       "      <td>no data</td>\n",
       "    </tr>\n",
       "    <tr>\n",
       "      <th>2</th>\n",
       "      <td>abies fraseri</td>\n",
       "      <td>fraser fir</td>\n",
       "      <td>vascular plant</td>\n",
       "      <td>species of concern</td>\n",
       "    </tr>\n",
       "    <tr>\n",
       "      <th>3</th>\n",
       "      <td>abietinella abietina</td>\n",
       "      <td>abietinella moss</td>\n",
       "      <td>nonvascular plant</td>\n",
       "      <td>no data</td>\n",
       "    </tr>\n",
       "    <tr>\n",
       "      <th>4</th>\n",
       "      <td>abronia ammophila</td>\n",
       "      <td>wyoming sand verbena, yellowstone sand verbena</td>\n",
       "      <td>vascular plant</td>\n",
       "      <td>species of concern</td>\n",
       "    </tr>\n",
       "  </tbody>\n",
       "</table>\n",
       "</div>"
      ],
      "text/plain": [
       "        scientific_name                                       common_names  \\\n",
       "0         abies bifolia                          rocky mountain alpine fir   \n",
       "1        abies concolor  balsam fir, colorado fir, concolor fir, silver...   \n",
       "2         abies fraseri                                         fraser fir   \n",
       "3  abietinella abietina                                   abietinella moss   \n",
       "4     abronia ammophila     wyoming sand verbena, yellowstone sand verbena   \n",
       "\n",
       "            category conservation_status  \n",
       "0     vascular plant             no data  \n",
       "1     vascular plant             no data  \n",
       "2     vascular plant  species of concern  \n",
       "3  nonvascular plant             no data  \n",
       "4     vascular plant  species of concern  "
      ]
     },
     "execution_count": 11,
     "metadata": {},
     "output_type": "execute_result"
    }
   ],
   "source": [
    "# Join common_names and conservation_status for duplicated scientific_name\n",
    "\n",
    "species_info = species_info.groupby('scientific_name', as_index=False)\\\n",
    ".agg({'common_names': lambda x: ', '.join(x), 'category': 'first', \\\n",
    "      'conservation_status': 'last'})\n",
    "\n",
    "print(\"The dataset 'species_info' now contains {} rows and \\\n",
    "{} columns.\".format(species_info.shape[0], species_info.shape[1]))\n",
    "species_info.head()"
   ]
  },
  {
   "cell_type": "markdown",
   "metadata": {},
   "source": [
    "#### Merge"
   ]
  },
  {
   "cell_type": "code",
   "execution_count": 12,
   "metadata": {},
   "outputs": [
    {
     "name": "stdout",
     "output_type": "stream",
     "text": [
      "The dataset 'combined' contains 22164 rows and 6 columns.\n"
     ]
    },
    {
     "data": {
      "text/html": [
       "<div>\n",
       "<style scoped>\n",
       "    .dataframe tbody tr th:only-of-type {\n",
       "        vertical-align: middle;\n",
       "    }\n",
       "\n",
       "    .dataframe tbody tr th {\n",
       "        vertical-align: top;\n",
       "    }\n",
       "\n",
       "    .dataframe thead th {\n",
       "        text-align: right;\n",
       "    }\n",
       "</style>\n",
       "<table border=\"1\" class=\"dataframe\">\n",
       "  <thead>\n",
       "    <tr style=\"text-align: right;\">\n",
       "      <th></th>\n",
       "      <th>scientific_name</th>\n",
       "      <th>park_name</th>\n",
       "      <th>observations</th>\n",
       "      <th>common_names</th>\n",
       "      <th>category</th>\n",
       "      <th>conservation_status</th>\n",
       "    </tr>\n",
       "  </thead>\n",
       "  <tbody>\n",
       "    <tr>\n",
       "      <th>0</th>\n",
       "      <td>abies bifolia</td>\n",
       "      <td>bryce national park</td>\n",
       "      <td>109</td>\n",
       "      <td>rocky mountain alpine fir</td>\n",
       "      <td>vascular plant</td>\n",
       "      <td>no data</td>\n",
       "    </tr>\n",
       "    <tr>\n",
       "      <th>1</th>\n",
       "      <td>abies bifolia</td>\n",
       "      <td>great smoky mountains national park</td>\n",
       "      <td>72</td>\n",
       "      <td>rocky mountain alpine fir</td>\n",
       "      <td>vascular plant</td>\n",
       "      <td>no data</td>\n",
       "    </tr>\n",
       "    <tr>\n",
       "      <th>2</th>\n",
       "      <td>abies bifolia</td>\n",
       "      <td>yellowstone national park</td>\n",
       "      <td>215</td>\n",
       "      <td>rocky mountain alpine fir</td>\n",
       "      <td>vascular plant</td>\n",
       "      <td>no data</td>\n",
       "    </tr>\n",
       "    <tr>\n",
       "      <th>3</th>\n",
       "      <td>abies bifolia</td>\n",
       "      <td>yosemite national park</td>\n",
       "      <td>136</td>\n",
       "      <td>rocky mountain alpine fir</td>\n",
       "      <td>vascular plant</td>\n",
       "      <td>no data</td>\n",
       "    </tr>\n",
       "    <tr>\n",
       "      <th>4</th>\n",
       "      <td>abies concolor</td>\n",
       "      <td>bryce national park</td>\n",
       "      <td>83</td>\n",
       "      <td>balsam fir, colorado fir, concolor fir, silver...</td>\n",
       "      <td>vascular plant</td>\n",
       "      <td>no data</td>\n",
       "    </tr>\n",
       "  </tbody>\n",
       "</table>\n",
       "</div>"
      ],
      "text/plain": [
       "  scientific_name                            park_name  observations  \\\n",
       "0   abies bifolia                  bryce national park           109   \n",
       "1   abies bifolia  great smoky mountains national park            72   \n",
       "2   abies bifolia            yellowstone national park           215   \n",
       "3   abies bifolia               yosemite national park           136   \n",
       "4  abies concolor                  bryce national park            83   \n",
       "\n",
       "                                        common_names        category  \\\n",
       "0                          rocky mountain alpine fir  vascular plant   \n",
       "1                          rocky mountain alpine fir  vascular plant   \n",
       "2                          rocky mountain alpine fir  vascular plant   \n",
       "3                          rocky mountain alpine fir  vascular plant   \n",
       "4  balsam fir, colorado fir, concolor fir, silver...  vascular plant   \n",
       "\n",
       "  conservation_status  \n",
       "0             no data  \n",
       "1             no data  \n",
       "2             no data  \n",
       "3             no data  \n",
       "4             no data  "
      ]
     },
     "execution_count": 12,
     "metadata": {},
     "output_type": "execute_result"
    }
   ],
   "source": [
    "# Combine 'observations' and 'species_info'\n",
    "\n",
    "combined = pd.merge(observations, species_info, on = ['scientific_name'], how = 'left')\n",
    "\n",
    "print(\"The dataset 'combined' contains {} rows and \\\n",
    "{} columns.\".format(combined.shape[0], combined.shape[1]))\n",
    "combined.head()"
   ]
  },
  {
   "cell_type": "markdown",
   "metadata": {},
   "source": [
    "#### Separate by National Park"
   ]
  },
  {
   "cell_type": "code",
   "execution_count": 13,
   "metadata": {},
   "outputs": [],
   "source": [
    "# Create unique dataframes for each National Park\n",
    "\n",
    "def isolate(park_name):\n",
    "    df = combined[combined.park_name == park_name]\n",
    "    return df\n",
    "\n",
    "bryce = isolate(\"bryce national park\")\n",
    "great_smoky = isolate(\"great smoky mountains national park\")\n",
    "yellowstone = isolate(\"yellowstone national park\")\n",
    "yosemite = isolate(\"yosemite national park\")"
   ]
  },
  {
   "cell_type": "markdown",
   "metadata": {},
   "source": [
    "### Section 3: Questions for Analysis<a id=\"questions\"></a>\n",
    "\n",
    "**Data Distributions:**\n",
    "* Which National Parks make the most observations? Which categories of species do they observe?\n",
    "* How many species are represented in each category? How does this compare to number of observations?\n",
    "\n",
    "**Conservation Analysis:**\n",
    "* Which conservation status is most populated? Which species categories does it contain?\n",
    "* Which categories have the highest percentages of species flagged for conservation?"
   ]
  },
  {
   "cell_type": "markdown",
   "metadata": {},
   "source": [
    "### Section 4: Data Distributions<a id=\"distributions\"></a>"
   ]
  },
  {
   "cell_type": "markdown",
   "metadata": {},
   "source": [
    "#### Which National Parks make the most observations? Which categories of species do they observe?"
   ]
  },
  {
   "cell_type": "code",
   "execution_count": 22,
   "metadata": {},
   "outputs": [],
   "source": [
    "# Group observations by National Park\n",
    "parks_grouped = combined.groupby([\"park_name\", \"category\"]).observations.sum().reset_index()\n",
    "\n",
    "# Isolate species flagged for conservation\n",
    "conserve = combined[combined.conservation_status != \"no data\"]\n",
    "parks_grouped_conserve = conserve.groupby([\"park_name\", \"category\"]).observations.sum().reset_index()\n",
    "\n",
    "# Pivot by species category\n",
    "pivot_category = parks_grouped.pivot(columns='category', \\\n",
    "                              index='park_name', values='observations').reset_index()\n",
    "column_order = ['park_name', 'vascular plant', 'bird', 'nonvascular plant', 'mammal', \\\n",
    "                'fish', 'amphibian', 'reptile']\n",
    "row_order = ['yellowstone national park', 'yosemite national park', 'bryce national park', \\\n",
    "             'great smoky mountains national park']\n",
    "pivot_category = pivot_category.reindex(column_order, axis=1).reindex([2,3,0,1])\n",
    "\n",
    "# Again for conserved species\n",
    "pivot_category_conserve = parks_grouped_conserve.pivot(columns='category', \\\n",
    "                              index='park_name', values='observations').reset_index()\n",
    "pivot_category_conserve = pivot_category_conserve.reindex(column_order, axis=1).reindex([2,3,0,1])\n",
    "\n",
    "# Create a color dictionary\n",
    "palette = sns.color_palette(\"gist_earth\", len(column_order))\n",
    "# palette.reverse()\n",
    "colors = dict(zip(column_order, palette))\n",
    "\n",
    "# parks_grouped.head()\n",
    "# pivot_category.head()\n",
    "# pivot_category_conserve.head()"
   ]
  },
  {
   "cell_type": "code",
   "execution_count": 44,
   "metadata": {},
   "outputs": [
    {
     "data": {
      "image/png": "[encoded data removed]",
      "text/plain": [
       "<Figure size 864x720 with 2 Axes>"
      ]
     },
     "metadata": {
      "needs_background": "light"
     },
     "output_type": "display_data"
    }
   ],
   "source": [
    "# Plot Number of Observations by National Park and Species Category\n",
    "\n",
    "fig, axes = plt.subplots(figsize=(12,10), nrows=2, ncols=1)\n",
    "\n",
    "# Observations sum\n",
    "df = parks_grouped.groupby('park_name').observations.sum().reset_index()\\\n",
    "        .sort_values('observations', ascending=False)\n",
    "ax = df.plot(ax=axes[0], \\\n",
    "        kind='bar', rot=0, title=\"Number of Observations by National Park and Species Category\", \\\n",
    "        xlabel='', ylabel=\"Observations\", legend=False, color=colors['park_name'])\n",
    "ax.set_xticklabels(df.park_name)\n",
    "\n",
    "# Observations by category\n",
    "pivot_category.plot(ax=axes[1], x='park_name', kind='bar', \\\n",
    "                    rot=0, xlabel=\"Park Name\", ylabel=\"Observations\", color=colors)\n",
    "plt.legend(ncol=7, bbox_to_anchor=(0.99, -0.25))\n",
    "\n",
    "plt.savefig(\"images/num_obs_by_park_and_category_vascular\")\n",
    "plt.show()"
   ]
  },
  {
   "cell_type": "markdown",
   "metadata": {},
   "source": [
    "**Analysis:**\n",
    "\n",
    "Yellowstone National Park makes the most observations. Among every park, vascular plants are by far the most observed category, making other categories difficult to see. Let's drop vascular plants from our dataset and take a closer look at the distribution of observations in the other categories."
   ]
  },
  {
   "cell_type": "code",
   "execution_count": 61,
   "metadata": {},
   "outputs": [
    {
     "data": {
      "image/png": "[encoded data removed]",
      "text/plain": [
       "<Figure size 864x396 with 1 Axes>"
      ]
     },
     "metadata": {
      "needs_background": "light"
     },
     "output_type": "display_data"
    }
   ],
   "source": [
    "# Plot Number of Observations by National Park and Species Category Without Vascular Plants\n",
    "\n",
    "pivot_category.drop(['vascular plant'], axis=1).plot(x='park_name', kind='bar', rot=0, \\\n",
    "        title=\"Number of Observations by National Park and Species Category\\nWithout Vascular Plants\", \\\n",
    "        xlabel='Park Name', figsize=(12,5.5), color=colors)\n",
    "plt.legend(ncol=7, bbox_to_anchor=(0.85, -0.23))\n",
    "plt.tight_layout()\n",
    "\n",
    "plt.savefig(\"images/num_obs_by_park_and_category_no_vascular\")\n",
    "plt.show()"
   ]
  },
  {
   "cell_type": "markdown",
   "metadata": {},
   "source": [
    "The uniformity of these distributions is highly suspicious. Let us isolate the species flagged for conservation."
   ]
  },
  {
   "cell_type": "code",
   "execution_count": 64,
   "metadata": {},
   "outputs": [
    {
     "data": {
      "image/png": "[encoded data removed]",
      "text/plain": [
       "<Figure size 864x396 with 1 Axes>"
      ]
     },
     "metadata": {
      "needs_background": "light"
     },
     "output_type": "display_data"
    }
   ],
   "source": [
    "# Plot Number of Conservation Observations by National Park and Species Category Without Vascular Plants\n",
    "\n",
    "pivot_category_conserve.drop(['vascular plant'], axis=1).plot(x='park_name', kind='bar', rot=0, \\\n",
    "        title=\"Number of Observations by National Park and Species Category\\nIsolating Species to Conserve, Without Vascular Plants\", \\\n",
    "        xlabel='Park Name', figsize=(12,5.5), color=colors)\n",
    "plt.legend(ncol=7, bbox_to_anchor=(0.85, -0.23))\n",
    "plt.tight_layout()\n",
    "\n",
    "plt.savefig(\"images/num_obs_by_park_and_category_no_vascular_conserve\")\n",
    "plt.show()"
   ]
  },
  {
   "cell_type": "markdown",
   "metadata": {},
   "source": [
    "This data is unbelievable. **See analysis below.**"
   ]
  },
  {
   "cell_type": "markdown",
   "metadata": {},
   "source": [
    "#### How many species are represented in each category? How does this compare to observational proportions?"
   ]
  },
  {
   "cell_type": "code",
   "execution_count": 16,
   "metadata": {},
   "outputs": [
    {
     "data": {
      "text/html": [
       "<div>\n",
       "<style scoped>\n",
       "    .dataframe tbody tr th:only-of-type {\n",
       "        vertical-align: middle;\n",
       "    }\n",
       "\n",
       "    .dataframe tbody tr th {\n",
       "        vertical-align: top;\n",
       "    }\n",
       "\n",
       "    .dataframe thead th {\n",
       "        text-align: right;\n",
       "    }\n",
       "</style>\n",
       "<table border=\"1\" class=\"dataframe\">\n",
       "  <thead>\n",
       "    <tr style=\"text-align: right;\">\n",
       "      <th></th>\n",
       "      <th>category</th>\n",
       "      <th>scientific_name</th>\n",
       "      <th>observations</th>\n",
       "      <th>scientific_name_proportions</th>\n",
       "      <th>observations_proportions</th>\n",
       "    </tr>\n",
       "  </thead>\n",
       "  <tbody>\n",
       "    <tr>\n",
       "      <th>6</th>\n",
       "      <td>vascular plant</td>\n",
       "      <td>4262</td>\n",
       "      <td>664965</td>\n",
       "      <td>1.00</td>\n",
       "      <td>1.00</td>\n",
       "    </tr>\n",
       "    <tr>\n",
       "      <th>1</th>\n",
       "      <td>bird</td>\n",
       "      <td>488</td>\n",
       "      <td>76207</td>\n",
       "      <td>0.11</td>\n",
       "      <td>0.11</td>\n",
       "    </tr>\n",
       "    <tr>\n",
       "      <th>4</th>\n",
       "      <td>nonvascular plant</td>\n",
       "      <td>333</td>\n",
       "      <td>49783</td>\n",
       "      <td>0.08</td>\n",
       "      <td>0.07</td>\n",
       "    </tr>\n",
       "    <tr>\n",
       "      <th>3</th>\n",
       "      <td>mammal</td>\n",
       "      <td>176</td>\n",
       "      <td>30339</td>\n",
       "      <td>0.04</td>\n",
       "      <td>0.05</td>\n",
       "    </tr>\n",
       "    <tr>\n",
       "      <th>2</th>\n",
       "      <td>fish</td>\n",
       "      <td>125</td>\n",
       "      <td>18615</td>\n",
       "      <td>0.03</td>\n",
       "      <td>0.03</td>\n",
       "    </tr>\n",
       "    <tr>\n",
       "      <th>0</th>\n",
       "      <td>amphibian</td>\n",
       "      <td>79</td>\n",
       "      <td>11444</td>\n",
       "      <td>0.02</td>\n",
       "      <td>0.02</td>\n",
       "    </tr>\n",
       "    <tr>\n",
       "      <th>5</th>\n",
       "      <td>reptile</td>\n",
       "      <td>78</td>\n",
       "      <td>11483</td>\n",
       "      <td>0.02</td>\n",
       "      <td>0.02</td>\n",
       "    </tr>\n",
       "  </tbody>\n",
       "</table>\n",
       "</div>"
      ],
      "text/plain": [
       "            category  scientific_name  observations  \\\n",
       "6     vascular plant             4262        664965   \n",
       "1               bird              488         76207   \n",
       "4  nonvascular plant              333         49783   \n",
       "3             mammal              176         30339   \n",
       "2               fish              125         18615   \n",
       "0          amphibian               79         11444   \n",
       "5            reptile               78         11483   \n",
       "\n",
       "   scientific_name_proportions  observations_proportions  \n",
       "6                         1.00                      1.00  \n",
       "1                         0.11                      0.11  \n",
       "4                         0.08                      0.07  \n",
       "3                         0.04                      0.05  \n",
       "2                         0.03                      0.03  \n",
       "0                         0.02                      0.02  \n",
       "5                         0.02                      0.02  "
      ]
     },
     "execution_count": 16,
     "metadata": {},
     "output_type": "execute_result"
    }
   ],
   "source": [
    "# Group data by species and observations per category\n",
    "\n",
    "def group_proportions(df):\n",
    "    df_g = df.groupby('category', as_index=False)\\\n",
    "        .agg({'scientific_name': 'count', 'observations': 'sum'})\\\n",
    "        .sort_values('scientific_name', ascending=False)\n",
    "    df_g['scientific_name_proportions'] = df_g['scientific_name']\\\n",
    "        .map(lambda a: np.round(a / df_g.scientific_name.max(), 2))\n",
    "    df_g['observations_proportions'] = df_g['observations']\\\n",
    "        .map(lambda a: np.round(a / df_g.observations.max(), 2))\n",
    "    return df_g\n",
    "\n",
    "bryce_g = group_proportions(bryce)\n",
    "great_smoky_g = group_proportions(great_smoky)\n",
    "yellowstone_g = group_proportions(yellowstone)\n",
    "yosemite_g = group_proportions(yosemite)\n",
    "yosemite_g"
   ]
  },
  {
   "cell_type": "code",
   "execution_count": 17,
   "metadata": {},
   "outputs": [
    {
     "data": {
      "image/png": "[encoded data removed]",
      "text/plain": [
       "<Figure size 1440x576 with 4 Axes>"
      ]
     },
     "metadata": {
      "needs_background": "light"
     },
     "output_type": "display_data"
    }
   ],
   "source": [
    "# Plot categories by proportions of species and compare to observational proportions\n",
    "\n",
    "# Dataframes, titles, and rows for each park\n",
    "dfs = [yellowstone_g, yosemite_g, bryce_g, great_smoky_g]\n",
    "titles = ['yellowstone national park', 'yosemite national park', 'bryce national park', 'great smoky mountains national park']\n",
    "rows = [0,0,1,1]\n",
    "\n",
    "# Colors\n",
    "proportions_column_order=['scientific_name_proportions', 'observations_proportions']\n",
    "palette = sns.color_palette(\"gist_earth\", len(proportions_column_order))\n",
    "proportions_colors = dict(zip(proportions_column_order, palette))\n",
    "\n",
    "# Plot\n",
    "fig, axes = plt.subplots(figsize=(20,8), nrows=2, ncols=2)\n",
    "\n",
    "for i in range(4):\n",
    "    dfs[i].plot(ax = axes[rows[i],i%2], x='category', \\\n",
    "    y=['scientific_name_proportions', 'observations_proportions'], \\\n",
    "    kind='bar', rot=0, title=titles[i].title(), color=proportions_colors)\n",
    "\n",
    "plt.subplots_adjust(wspace=0.1, hspace=0.3)\n",
    "plt.show()"
   ]
  },
  {
   "cell_type": "markdown",
   "metadata": {},
   "source": [
    "**Analysis:**<br>\n",
    "\n",
    "The distribution of observations among every park takes a surprisingly similar shape. Vascular plants are most observed, followed by birds, nonvascular plants, mammals, fish, and ending with amphibians and reptiles nearly tied for least number of observations. This pattern may illuminate how the data was taken. Finding this pattern far too neat (and remembering that Codecademy does not cite its data source), my first impression was that the data is simulated. However, although the proportions of observations look similar in the above visualization, their exact values are all slightly off from exactly proportionate. Perhaps this pattern speaks to the observational accessibility of varying categories or an observational quota required by the investigators. <br>\n",
    "\n",
    "Isolating for species flagged for conservation, we find this same uniformity. Unfortunately, this means that we cannot make meaningful conclusions about which parks contain the highest percentages of species flagged for conservation. Neither can we make meaningful comparisons between the different ecosystems within each park. According to the data, each park contains nearly the same proportions of species flagged for conservation and nearly the same distribution of both species and observations categorically. This is further evidence that the data is simulated. <br>\n",
    "\n",
    "Perhaps the data was simulated by Codecademy to achieve all of the specific data-cleaning challenges found in [Section 2: Wrangling and Tidying the Data](#tidy)."
   ]
  },
  {
   "cell_type": "markdown",
   "metadata": {},
   "source": [
    "### Section 5: Conservation Analysis<a id=\"conservation\"></a>"
   ]
  },
  {
   "cell_type": "markdown",
   "metadata": {},
   "source": [
    "#### Which conservation status is most populated? Which categories does it contain?"
   ]
  },
  {
   "cell_type": "code",
   "execution_count": 94,
   "metadata": {},
   "outputs": [
    {
     "data": {
      "image/png": "[encoded data removed]",
      "text/plain": [
       "<Figure size 864x432 with 1 Axes>"
      ]
     },
     "metadata": {
      "needs_background": "light"
     },
     "output_type": "display_data"
    }
   ],
   "source": [
    "# Isolate species flagged for conservation\n",
    "conserve = combined[combined.conservation_status != \"no data\"]\n",
    "\n",
    "# Plot Number of Species Flagged for Conservation\n",
    "plt.figure(figsize=(12,6))\n",
    "sns.countplot(data=conserve, x='conservation_status', hue='category', hue_order=column_order[1:], palette=colors)\n",
    "plt.legend(ncol=7, bbox_to_anchor=(0.9, -0.13))\n",
    "plt.title(\"Number of Species Flagged for Conservation\")\n",
    "plt.xlabel(\"Conservation Status\")\n",
    "plt.ylabel(\"Number of Species\")\n",
    "plt.tight_layout()\n",
    "\n",
    "plt.savefig(\"images/num_species_flagged_for_conservation\")\n",
    "plt.show()"
   ]
  },
  {
   "cell_type": "markdown",
   "metadata": {},
   "source": [
    "**Analysis:**\n",
    "\n",
    "The large majority of species flagged for conservation are classified as species of concern, rather than threatened, endangered, or in recovery. Among species of concern, birds have the widest variety of species flagged for conservation, followed by vasular plants and mammals. After species of concern, the other three conservation types are sparsely populated. No birds, nonvascular plants, nor reptiles are threated. No nonvascular plants nor reptiles are endangered. Only birds are represented among species in recovery. <br>\n",
    "\n",
    "Although vascular plants dominate the dataset with respect to number of species and number observations, they do not represented the highest category of species flagged for conservation. Conversely, birds represent far fewer species and observations given the dataset as a whole, but are of great concern when it comes to conservation. I am thus curious to examine what proportion of each category is flagged for conservation."
   ]
  },
  {
   "cell_type": "markdown",
   "metadata": {},
   "source": [
    "#### Which categories have the highest proportions of species flagged for conservation?"
   ]
  },
  {
   "cell_type": "code",
   "execution_count": 19,
   "metadata": {},
   "outputs": [],
   "source": [
    "# Silence warnings\n",
    "pd.options.mode.chained_assignment = None\n",
    "\n",
    "# Group by category and count species by conservation status \n",
    "conservation_values = combined.groupby(\"category\")\\\n",
    "    .conservation_status.value_counts()\\\n",
    "    .rename_axis(['category', 'conservation_status'])\\\n",
    "    .reset_index(name='counts')\n",
    "\n",
    "# conservation_values"
   ]
  },
  {
   "cell_type": "code",
   "execution_count": 20,
   "metadata": {},
   "outputs": [
    {
     "data": {
      "text/html": [
       "<div>\n",
       "<style scoped>\n",
       "    .dataframe tbody tr th:only-of-type {\n",
       "        vertical-align: middle;\n",
       "    }\n",
       "\n",
       "    .dataframe tbody tr th {\n",
       "        vertical-align: top;\n",
       "    }\n",
       "\n",
       "    .dataframe thead th {\n",
       "        text-align: right;\n",
       "    }\n",
       "</style>\n",
       "<table border=\"1\" class=\"dataframe\">\n",
       "  <thead>\n",
       "    <tr style=\"text-align: right;\">\n",
       "      <th>category</th>\n",
       "      <th>conservation_status</th>\n",
       "      <th>vascular plant</th>\n",
       "      <th>bird</th>\n",
       "      <th>nonvascular plant</th>\n",
       "      <th>mammal</th>\n",
       "      <th>fish</th>\n",
       "      <th>amphibian</th>\n",
       "      <th>reptile</th>\n",
       "    </tr>\n",
       "  </thead>\n",
       "  <tbody>\n",
       "    <tr>\n",
       "      <th>2</th>\n",
       "      <td>no data</td>\n",
       "      <td>16864</td>\n",
       "      <td>1652</td>\n",
       "      <td>1312</td>\n",
       "      <td>584</td>\n",
       "      <td>456</td>\n",
       "      <td>288</td>\n",
       "      <td>292</td>\n",
       "    </tr>\n",
       "    <tr>\n",
       "      <th>3</th>\n",
       "      <td>species of concern</td>\n",
       "      <td>172</td>\n",
       "      <td>272</td>\n",
       "      <td>20</td>\n",
       "      <td>88</td>\n",
       "      <td>16</td>\n",
       "      <td>16</td>\n",
       "      <td>20</td>\n",
       "    </tr>\n",
       "    <tr>\n",
       "      <th>4</th>\n",
       "      <td>threatened</td>\n",
       "      <td>8</td>\n",
       "      <td>0</td>\n",
       "      <td>0</td>\n",
       "      <td>8</td>\n",
       "      <td>16</td>\n",
       "      <td>8</td>\n",
       "      <td>0</td>\n",
       "    </tr>\n",
       "    <tr>\n",
       "      <th>0</th>\n",
       "      <td>endangered</td>\n",
       "      <td>4</td>\n",
       "      <td>16</td>\n",
       "      <td>0</td>\n",
       "      <td>24</td>\n",
       "      <td>12</td>\n",
       "      <td>4</td>\n",
       "      <td>0</td>\n",
       "    </tr>\n",
       "    <tr>\n",
       "      <th>1</th>\n",
       "      <td>in recovery</td>\n",
       "      <td>0</td>\n",
       "      <td>12</td>\n",
       "      <td>0</td>\n",
       "      <td>0</td>\n",
       "      <td>0</td>\n",
       "      <td>0</td>\n",
       "      <td>0</td>\n",
       "    </tr>\n",
       "  </tbody>\n",
       "</table>\n",
       "</div>"
      ],
      "text/plain": [
       "category conservation_status  vascular plant  bird  nonvascular plant  mammal  \\\n",
       "2                    no data           16864  1652               1312     584   \n",
       "3         species of concern             172   272                 20      88   \n",
       "4                 threatened               8     0                  0       8   \n",
       "0                 endangered               4    16                  0      24   \n",
       "1                in recovery               0    12                  0       0   \n",
       "\n",
       "category  fish  amphibian  reptile  \n",
       "2          456        288      292  \n",
       "3           16         16       20  \n",
       "4           16          8        0  \n",
       "0           12          4        0  \n",
       "1            0          0        0  "
      ]
     },
     "execution_count": 20,
     "metadata": {},
     "output_type": "execute_result"
    }
   ],
   "source": [
    "# Pivot\n",
    "pivot_conservation_values = conservation_values.pivot(columns='category', \\\n",
    "                              index='conservation_status', values='counts').reset_index()\n",
    "pivot_conservation_values = pivot_conservation_values.fillna('0')\n",
    "\n",
    "# Reorder columns\n",
    "column_order = ['conservation_status', 'vascular plant', 'bird', 'nonvascular plant', 'mammal', \\\n",
    "                'fish', 'amphibian', 'reptile']\n",
    "pivot_conservation_values = pivot_conservation_values.reindex(column_order, axis=1).reindex([2,3,4,0,1])\n",
    "\n",
    "# Change dtypes\n",
    "pivot_conservation_values = pivot_conservation_values.astype({'amphibian': 'int64', 'bird': 'int64', \\\n",
    "                                'fish': 'int64', 'mammal': 'int64', 'nonvascular plant': 'int64', \\\n",
    "                                'reptile': 'int64', 'vascular plant': 'int64'})\n",
    "pivot_conservation_values"
   ]
  },
  {
   "cell_type": "code",
   "execution_count": 21,
   "metadata": {},
   "outputs": [
    {
     "data": {
      "text/html": [
       "<div>\n",
       "<style scoped>\n",
       "    .dataframe tbody tr th:only-of-type {\n",
       "        vertical-align: middle;\n",
       "    }\n",
       "\n",
       "    .dataframe tbody tr th {\n",
       "        vertical-align: top;\n",
       "    }\n",
       "\n",
       "    .dataframe thead th {\n",
       "        text-align: right;\n",
       "    }\n",
       "</style>\n",
       "<table border=\"1\" class=\"dataframe\">\n",
       "  <thead>\n",
       "    <tr style=\"text-align: right;\">\n",
       "      <th>category</th>\n",
       "      <th>conservation_status</th>\n",
       "      <th>vascular plant</th>\n",
       "      <th>bird</th>\n",
       "      <th>nonvascular plant</th>\n",
       "      <th>mammal</th>\n",
       "      <th>fish</th>\n",
       "      <th>amphibian</th>\n",
       "      <th>reptile</th>\n",
       "    </tr>\n",
       "  </thead>\n",
       "  <tbody>\n",
       "    <tr>\n",
       "      <th>2</th>\n",
       "      <td>no data</td>\n",
       "      <td>0.99</td>\n",
       "      <td>0.85</td>\n",
       "      <td>0.98</td>\n",
       "      <td>0.83</td>\n",
       "      <td>0.91</td>\n",
       "      <td>0.91</td>\n",
       "      <td>0.94</td>\n",
       "    </tr>\n",
       "    <tr>\n",
       "      <th>3</th>\n",
       "      <td>species of concern</td>\n",
       "      <td>0.01</td>\n",
       "      <td>0.14</td>\n",
       "      <td>0.02</td>\n",
       "      <td>0.12</td>\n",
       "      <td>0.03</td>\n",
       "      <td>0.05</td>\n",
       "      <td>0.06</td>\n",
       "    </tr>\n",
       "    <tr>\n",
       "      <th>4</th>\n",
       "      <td>threatened</td>\n",
       "      <td>0.00</td>\n",
       "      <td>0.00</td>\n",
       "      <td>0.00</td>\n",
       "      <td>0.01</td>\n",
       "      <td>0.03</td>\n",
       "      <td>0.03</td>\n",
       "      <td>0.00</td>\n",
       "    </tr>\n",
       "    <tr>\n",
       "      <th>0</th>\n",
       "      <td>endangered</td>\n",
       "      <td>0.00</td>\n",
       "      <td>0.01</td>\n",
       "      <td>0.00</td>\n",
       "      <td>0.03</td>\n",
       "      <td>0.02</td>\n",
       "      <td>0.01</td>\n",
       "      <td>0.00</td>\n",
       "    </tr>\n",
       "    <tr>\n",
       "      <th>1</th>\n",
       "      <td>in recovery</td>\n",
       "      <td>0.00</td>\n",
       "      <td>0.01</td>\n",
       "      <td>0.00</td>\n",
       "      <td>0.00</td>\n",
       "      <td>0.00</td>\n",
       "      <td>0.00</td>\n",
       "      <td>0.00</td>\n",
       "    </tr>\n",
       "  </tbody>\n",
       "</table>\n",
       "</div>"
      ],
      "text/plain": [
       "category conservation_status  vascular plant  bird  nonvascular plant  mammal  \\\n",
       "2                    no data            0.99  0.85               0.98    0.83   \n",
       "3         species of concern            0.01  0.14               0.02    0.12   \n",
       "4                 threatened            0.00  0.00               0.00    0.01   \n",
       "0                 endangered            0.00  0.01               0.00    0.03   \n",
       "1                in recovery            0.00  0.01               0.00    0.00   \n",
       "\n",
       "category  fish  amphibian  reptile  \n",
       "2         0.91       0.91     0.94  \n",
       "3         0.03       0.05     0.06  \n",
       "4         0.03       0.03     0.00  \n",
       "0         0.02       0.01     0.00  \n",
       "1         0.00       0.00     0.00  "
      ]
     },
     "execution_count": 21,
     "metadata": {},
     "output_type": "execute_result"
    }
   ],
   "source": [
    "# Convert values to proportions\n",
    "df = pivot_conservation_values\n",
    "numeric_columns = [col for col in df.columns if df[col].dtypes == 'int64']\n",
    "\n",
    "for i in numeric_columns:\n",
    "    df[i] = np.round(df[i] / df[i].sum(), 2)\n",
    "\n",
    "# Examine dataframe\n",
    "pivot_conservation_proportions = df\n",
    "pivot_conservation_proportions"
   ]
  },
  {
   "cell_type": "markdown",
   "metadata": {},
   "source": [
    "**Analysis:**\n",
    "\n",
    "Birds and mammals have the highest proportions of species of concern, both categories containing about 13% species of concern. Because the total number of species differs from one category to another, this level of detail is unavailable within the bar plot of Number of Species Flagged for Conservation. Similarly, although vascular plants have the second-highest number of species of concern, these species only represent 1% of all the vascular plant species available. Mammals have both the highest number and the highest percentage of endangered species within our dataset."
   ]
  },
  {
   "cell_type": "markdown",
   "metadata": {},
   "source": [
    "### Section 6: Conclusions<a id=\"conclusions\"></a>"
   ]
  },
  {
   "cell_type": "markdown",
   "metadata": {},
   "source": [
    "* This project was **an excellent exercise in data wrangling and tidying**. I enjoyed the process of cleaning the data because I was reminded what a joy it can be to transform a dataset into a legible text. Tidying data is so often an enjoyable puzzle to solve, including with this data.<br><br>\n",
    "* Unfortunately, **the data are too unrealistic to make meaningful conclusions** about the ecosystems described therein. Within each national park, there are nearly identical distributions of species and observations across the given categories, differentiated only by the total number of observations for each park. We receive no authentic information about which ecosystems may be (dis)advantageous to endangered or conserved species, and thus no real understanding of how to support the balance of their habitats. There's no meaningful path forward. <br><br>\n",
    "* The analyses of **species flagged for conservation reveal more realistic diversity**, and may reflect more authentic data on the matter. Here, we discover that birds and mammals as a whole are in most desperate need of conservation because high proportions of their species are flagged for conservation. Mammals in particular have the highest proportion of endangered species."
   ]
  },
  {
   "cell_type": "code",
   "execution_count": null,
   "metadata": {},
   "outputs": [],
   "source": []
  }
 ],
 "metadata": {
  "kernelspec": {
   "display_name": "Earthseed (Python 3)",
   "language": "python",
   "name": "earthseed"
  },
  "language_info": {
   "codemirror_mode": {
    "name": "ipython",
    "version": 3
   },
   "file_extension": ".py",
   "mimetype": "text/x-python",
   "name": "python",
   "nbconvert_exporter": "python",
   "pygments_lexer": "ipython3",
   "version": "3.7.12"
  }
 },
 "nbformat": 4,
 "nbformat_minor": 4
}
