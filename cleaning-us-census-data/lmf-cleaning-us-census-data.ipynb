{
 "cells": [
  {
   "cell_type": "markdown",
   "metadata": {},
   "source": [
    "# Cleaning US Census Data"
   ]
  },
  {
   "cell_type": "markdown",
   "metadata": {},
   "source": [
    "You just got hired as a Data Analyst at the Census Bureau, which collects census data and creates interesting visualizations and insights from it.\n",
    "\n",
    "The person who had your job before you left you all the data they had for the most recent census. It is in multiple `csv` files. They didn't use pandas, they would just look through these `csv` files manually whenever they wanted to find something. Sometimes they would copy and paste certain numbers into Excel to make charts.\n",
    "\n",
    "The thought of it makes you shiver. This is not scalable or repeatable.\n",
    "\n",
    "Your boss wants you to make some scatterplots and histograms by the end of the day. Can you get this data into `pandas` and into reasonable shape so that you can make these histograms?"
   ]
  },
  {
   "cell_type": "markdown",
   "metadata": {},
   "source": [
    "## Inspect the Data!"
   ]
  },
  {
   "cell_type": "markdown",
   "metadata": {},
   "source": [
    "1. The first visualization your boss wants you to make is a scatterplot that shows average income in a state vs proportion of women in that state.\n",
    "\n",
    "   Open some of the census `csv` files that came with the kit you downloaded. How are they named? What kind of information do they hold? Will they help us make this graph?"
   ]
  },
  {
   "cell_type": "code",
   "execution_count": 1,
   "metadata": {},
   "outputs": [],
   "source": [
    "# Import modules\n",
    "\n",
    "import pandas as pd\n",
    "import numpy as np\n",
    "import matplotlib.pyplot as plt"
   ]
  },
  {
   "cell_type": "code",
   "execution_count": 2,
   "metadata": {},
   "outputs": [
    {
     "data": {
      "text/html": [
       "<div>\n",
       "<style scoped>\n",
       "    .dataframe tbody tr th:only-of-type {\n",
       "        vertical-align: middle;\n",
       "    }\n",
       "\n",
       "    .dataframe tbody tr th {\n",
       "        vertical-align: top;\n",
       "    }\n",
       "\n",
       "    .dataframe thead th {\n",
       "        text-align: right;\n",
       "    }\n",
       "</style>\n",
       "<table border=\"1\" class=\"dataframe\">\n",
       "  <thead>\n",
       "    <tr style=\"text-align: right;\">\n",
       "      <th></th>\n",
       "      <th>Unnamed: 0</th>\n",
       "      <th>State</th>\n",
       "      <th>TotalPop</th>\n",
       "      <th>Hispanic</th>\n",
       "      <th>White</th>\n",
       "      <th>Black</th>\n",
       "      <th>Native</th>\n",
       "      <th>Asian</th>\n",
       "      <th>Pacific</th>\n",
       "      <th>Income</th>\n",
       "      <th>GenderPop</th>\n",
       "    </tr>\n",
       "  </thead>\n",
       "  <tbody>\n",
       "    <tr>\n",
       "      <td>0</td>\n",
       "      <td>0</td>\n",
       "      <td>Alabama</td>\n",
       "      <td>4830620</td>\n",
       "      <td>3.75%</td>\n",
       "      <td>61.88%</td>\n",
       "      <td>31.25%</td>\n",
       "      <td>0.45%</td>\n",
       "      <td>1.05%</td>\n",
       "      <td>0.03%</td>\n",
       "      <td>$43,296.36</td>\n",
       "      <td>2341093M_2489527F</td>\n",
       "    </tr>\n",
       "    <tr>\n",
       "      <td>1</td>\n",
       "      <td>1</td>\n",
       "      <td>Alaska</td>\n",
       "      <td>733375</td>\n",
       "      <td>5.91%</td>\n",
       "      <td>60.91%</td>\n",
       "      <td>2.85%</td>\n",
       "      <td>16.39%</td>\n",
       "      <td>5.45%</td>\n",
       "      <td>1.06%</td>\n",
       "      <td>$70,354.74</td>\n",
       "      <td>384160M_349215F</td>\n",
       "    </tr>\n",
       "    <tr>\n",
       "      <td>2</td>\n",
       "      <td>2</td>\n",
       "      <td>Arizona</td>\n",
       "      <td>6641928</td>\n",
       "      <td>29.57%</td>\n",
       "      <td>57.12%</td>\n",
       "      <td>3.85%</td>\n",
       "      <td>4.36%</td>\n",
       "      <td>2.88%</td>\n",
       "      <td>0.17%</td>\n",
       "      <td>$54,207.82</td>\n",
       "      <td>3299088M_3342840F</td>\n",
       "    </tr>\n",
       "    <tr>\n",
       "      <td>3</td>\n",
       "      <td>3</td>\n",
       "      <td>Arkansas</td>\n",
       "      <td>2958208</td>\n",
       "      <td>6.22%</td>\n",
       "      <td>71.14%</td>\n",
       "      <td>18.97%</td>\n",
       "      <td>0.52%</td>\n",
       "      <td>1.14%</td>\n",
       "      <td>0.15%</td>\n",
       "      <td>$41,935.63</td>\n",
       "      <td>1451913M_1506295F</td>\n",
       "    </tr>\n",
       "    <tr>\n",
       "      <td>4</td>\n",
       "      <td>4</td>\n",
       "      <td>California</td>\n",
       "      <td>38421464</td>\n",
       "      <td>37.29%</td>\n",
       "      <td>40.22%</td>\n",
       "      <td>5.68%</td>\n",
       "      <td>0.41%</td>\n",
       "      <td>13.05%</td>\n",
       "      <td>0.35%</td>\n",
       "      <td>$67,264.78</td>\n",
       "      <td>19087135M_19334329F</td>\n",
       "    </tr>\n",
       "  </tbody>\n",
       "</table>\n",
       "</div>"
      ],
      "text/plain": [
       "   Unnamed: 0       State  TotalPop Hispanic   White   Black  Native   Asian  \\\n",
       "0           0     Alabama   4830620    3.75%  61.88%  31.25%   0.45%   1.05%   \n",
       "1           1      Alaska    733375    5.91%  60.91%   2.85%  16.39%   5.45%   \n",
       "2           2     Arizona   6641928   29.57%  57.12%   3.85%   4.36%   2.88%   \n",
       "3           3    Arkansas   2958208    6.22%  71.14%  18.97%   0.52%   1.14%   \n",
       "4           4  California  38421464   37.29%  40.22%   5.68%   0.41%  13.05%   \n",
       "\n",
       "  Pacific       Income            GenderPop  \n",
       "0   0.03%  $43,296.36     2341093M_2489527F  \n",
       "1   1.06%  $70,354.74       384160M_349215F  \n",
       "2   0.17%  $54,207.82     3299088M_3342840F  \n",
       "3   0.15%  $41,935.63     1451913M_1506295F  \n",
       "4   0.35%  $67,264.78   19087135M_19334329F  "
      ]
     },
     "execution_count": 2,
     "metadata": {},
     "output_type": "execute_result"
    }
   ],
   "source": [
    "# Inspect single file\n",
    "\n",
    "states0 = pd.read_csv(\"states0.csv\")\n",
    "states0.head()"
   ]
  },
  {
   "cell_type": "markdown",
   "metadata": {},
   "source": [
    "2. It will be easier to inspect this data once we have it in a DataFrame. You can't even call `.head()` on these `csv`s! How are you supposed to read them?\n",
    "\n",
    "   Using `glob`, loop through the census files available and load them into DataFrames. Then, concatenate all of those DataFrames together into one DataFrame, called something like `us_census`."
   ]
  },
  {
   "cell_type": "code",
   "execution_count": 3,
   "metadata": {},
   "outputs": [],
   "source": [
    "# Import\n",
    "\n",
    "import glob"
   ]
  },
  {
   "cell_type": "code",
   "execution_count": 4,
   "metadata": {},
   "outputs": [],
   "source": [
    "# Concatenate all files\n",
    "\n",
    "files = glob.glob(\"states*.csv\")\n",
    "\n",
    "df_list = []\n",
    "\n",
    "for file in files:\n",
    "    data = pd.read_csv(file)\n",
    "    df_list.append(data)\n",
    "\n",
    "us_census = pd.concat(df_list)"
   ]
  },
  {
   "cell_type": "markdown",
   "metadata": {},
   "source": [
    "3. Look at the `.columns` and the `.dtypes` of the `us_census` DataFrame. Are those datatypes going to hinder you as you try to make histograms?"
   ]
  },
  {
   "cell_type": "code",
   "execution_count": 5,
   "metadata": {},
   "outputs": [
    {
     "name": "stdout",
     "output_type": "stream",
     "text": [
      "Index(['Unnamed: 0', 'State', 'TotalPop', 'Hispanic', 'White', 'Black',\n",
      "       'Native', 'Asian', 'Pacific', 'Income', 'GenderPop'],\n",
      "      dtype='object')\n",
      "Unnamed: 0     int64\n",
      "State         object\n",
      "TotalPop       int64\n",
      "Hispanic      object\n",
      "White         object\n",
      "Black         object\n",
      "Native        object\n",
      "Asian         object\n",
      "Pacific       object\n",
      "Income        object\n",
      "GenderPop     object\n",
      "dtype: object\n"
     ]
    }
   ],
   "source": [
    "# Inspect columns and dtypes\n",
    "\n",
    "print(us_census.columns)\n",
    "print(us_census.dtypes)"
   ]
  },
  {
   "cell_type": "markdown",
   "metadata": {},
   "source": [
    "4. Look at the `head()` of the DataFrame so that you can understand why some of these `dtypes` are objects instead of integers or floats.\n",
    "\n",
    "   Start to make a plan for how to convert these columns into the right types for manipulation."
   ]
  },
  {
   "cell_type": "code",
   "execution_count": 6,
   "metadata": {},
   "outputs": [
    {
     "data": {
      "text/html": [
       "<div>\n",
       "<style scoped>\n",
       "    .dataframe tbody tr th:only-of-type {\n",
       "        vertical-align: middle;\n",
       "    }\n",
       "\n",
       "    .dataframe tbody tr th {\n",
       "        vertical-align: top;\n",
       "    }\n",
       "\n",
       "    .dataframe thead th {\n",
       "        text-align: right;\n",
       "    }\n",
       "</style>\n",
       "<table border=\"1\" class=\"dataframe\">\n",
       "  <thead>\n",
       "    <tr style=\"text-align: right;\">\n",
       "      <th></th>\n",
       "      <th>Unnamed: 0</th>\n",
       "      <th>State</th>\n",
       "      <th>TotalPop</th>\n",
       "      <th>Hispanic</th>\n",
       "      <th>White</th>\n",
       "      <th>Black</th>\n",
       "      <th>Native</th>\n",
       "      <th>Asian</th>\n",
       "      <th>Pacific</th>\n",
       "      <th>Income</th>\n",
       "      <th>GenderPop</th>\n",
       "    </tr>\n",
       "  </thead>\n",
       "  <tbody>\n",
       "    <tr>\n",
       "      <td>0</td>\n",
       "      <td>0</td>\n",
       "      <td>Rhode Island</td>\n",
       "      <td>1053661</td>\n",
       "      <td>13.36%</td>\n",
       "      <td>74.33%</td>\n",
       "      <td>5.68%</td>\n",
       "      <td>0.35%</td>\n",
       "      <td>3.25%</td>\n",
       "      <td>0.04%</td>\n",
       "      <td>$59,125.27</td>\n",
       "      <td>510388M_543273F</td>\n",
       "    </tr>\n",
       "    <tr>\n",
       "      <td>1</td>\n",
       "      <td>1</td>\n",
       "      <td>South Carolina</td>\n",
       "      <td>4777576</td>\n",
       "      <td>5.06%</td>\n",
       "      <td>62.89%</td>\n",
       "      <td>28.75%</td>\n",
       "      <td>0.29%</td>\n",
       "      <td>1.25%</td>\n",
       "      <td>0.05%</td>\n",
       "      <td>$46,296.81</td>\n",
       "      <td>2322409M_2455167F</td>\n",
       "    </tr>\n",
       "    <tr>\n",
       "      <td>2</td>\n",
       "      <td>2</td>\n",
       "      <td>South Dakota</td>\n",
       "      <td>843190</td>\n",
       "      <td>3.24%</td>\n",
       "      <td>82.50%</td>\n",
       "      <td>1.42%</td>\n",
       "      <td>9.42%</td>\n",
       "      <td>1.02%</td>\n",
       "      <td>0.04%</td>\n",
       "      <td>$51,805.41</td>\n",
       "      <td>423477M_419713F</td>\n",
       "    </tr>\n",
       "    <tr>\n",
       "      <td>3</td>\n",
       "      <td>3</td>\n",
       "      <td>Tennessee</td>\n",
       "      <td>6499615</td>\n",
       "      <td>4.72%</td>\n",
       "      <td>73.49%</td>\n",
       "      <td>18.28%</td>\n",
       "      <td>0.23%</td>\n",
       "      <td>1.41%</td>\n",
       "      <td>0.04%</td>\n",
       "      <td>$47,328.08</td>\n",
       "      <td>3167756M_3331859F</td>\n",
       "    </tr>\n",
       "    <tr>\n",
       "      <td>4</td>\n",
       "      <td>4</td>\n",
       "      <td>Texas</td>\n",
       "      <td>26538614</td>\n",
       "      <td>38.05%</td>\n",
       "      <td>44.69%</td>\n",
       "      <td>11.65%</td>\n",
       "      <td>0.26%</td>\n",
       "      <td>3.67%</td>\n",
       "      <td>0.07%</td>\n",
       "      <td>$55,874.52</td>\n",
       "      <td>13171316M_13367298F</td>\n",
       "    </tr>\n",
       "  </tbody>\n",
       "</table>\n",
       "</div>"
      ],
      "text/plain": [
       "   Unnamed: 0           State  TotalPop Hispanic   White   Black Native  \\\n",
       "0           0    Rhode Island   1053661   13.36%  74.33%   5.68%  0.35%   \n",
       "1           1  South Carolina   4777576    5.06%  62.89%  28.75%  0.29%   \n",
       "2           2    South Dakota    843190    3.24%  82.50%   1.42%  9.42%   \n",
       "3           3       Tennessee   6499615    4.72%  73.49%  18.28%  0.23%   \n",
       "4           4           Texas  26538614   38.05%  44.69%  11.65%  0.26%   \n",
       "\n",
       "   Asian Pacific       Income            GenderPop  \n",
       "0  3.25%   0.04%  $59,125.27       510388M_543273F  \n",
       "1  1.25%   0.05%  $46,296.81     2322409M_2455167F  \n",
       "2  1.02%   0.04%  $51,805.41       423477M_419713F  \n",
       "3  1.41%   0.04%  $47,328.08     3167756M_3331859F  \n",
       "4  3.67%   0.07%  $55,874.52   13171316M_13367298F  "
      ]
     },
     "execution_count": 6,
     "metadata": {},
     "output_type": "execute_result"
    }
   ],
   "source": [
    "# Inspect header\n",
    "\n",
    "us_census.head()"
   ]
  },
  {
   "cell_type": "markdown",
   "metadata": {},
   "source": [
    "## Regex to the Rescue"
   ]
  },
  {
   "cell_type": "markdown",
   "metadata": {},
   "source": [
    "5. Use regex to turn the `Income` column into a format that is ready for conversion into a numerical type."
   ]
  },
  {
   "cell_type": "code",
   "execution_count": 7,
   "metadata": {},
   "outputs": [
    {
     "data": {
      "text/plain": [
       "Unnamed: 0      int64\n",
       "State          object\n",
       "TotalPop        int64\n",
       "Hispanic       object\n",
       "White          object\n",
       "Black          object\n",
       "Native         object\n",
       "Asian          object\n",
       "Pacific        object\n",
       "Income        float64\n",
       "GenderPop      object\n",
       "dtype: object"
      ]
     },
     "execution_count": 7,
     "metadata": {},
     "output_type": "execute_result"
    }
   ],
   "source": [
    "# Convert Income to numeric\n",
    "\n",
    "us_census.Income = pd.to_numeric(us_census.Income.replace('[\\$,]', '', regex=True))\n",
    "us_census.dtypes"
   ]
  },
  {
   "cell_type": "markdown",
   "metadata": {},
   "source": [
    "6. Look at the `GenderPop` column. We are going to want to separate this into two columns, the `Men` column, and the `Women` column.\n",
    "\n",
    "   Split the column into those two new columns using `str.split` and separating out those results."
   ]
  },
  {
   "cell_type": "code",
   "execution_count": 8,
   "metadata": {},
   "outputs": [
    {
     "data": {
      "text/html": [
       "<div>\n",
       "<style scoped>\n",
       "    .dataframe tbody tr th:only-of-type {\n",
       "        vertical-align: middle;\n",
       "    }\n",
       "\n",
       "    .dataframe tbody tr th {\n",
       "        vertical-align: top;\n",
       "    }\n",
       "\n",
       "    .dataframe thead th {\n",
       "        text-align: right;\n",
       "    }\n",
       "</style>\n",
       "<table border=\"1\" class=\"dataframe\">\n",
       "  <thead>\n",
       "    <tr style=\"text-align: right;\">\n",
       "      <th></th>\n",
       "      <th>Unnamed: 0</th>\n",
       "      <th>State</th>\n",
       "      <th>TotalPop</th>\n",
       "      <th>Hispanic</th>\n",
       "      <th>White</th>\n",
       "      <th>Black</th>\n",
       "      <th>Native</th>\n",
       "      <th>Asian</th>\n",
       "      <th>Pacific</th>\n",
       "      <th>Income</th>\n",
       "      <th>GenderPop</th>\n",
       "      <th>Men</th>\n",
       "      <th>Women</th>\n",
       "    </tr>\n",
       "  </thead>\n",
       "  <tbody>\n",
       "    <tr>\n",
       "      <td>0</td>\n",
       "      <td>0</td>\n",
       "      <td>Rhode Island</td>\n",
       "      <td>1053661</td>\n",
       "      <td>13.36%</td>\n",
       "      <td>74.33%</td>\n",
       "      <td>5.68%</td>\n",
       "      <td>0.35%</td>\n",
       "      <td>3.25%</td>\n",
       "      <td>0.04%</td>\n",
       "      <td>59125.27</td>\n",
       "      <td>510388M_543273F</td>\n",
       "      <td>510388M</td>\n",
       "      <td>543273F</td>\n",
       "    </tr>\n",
       "    <tr>\n",
       "      <td>1</td>\n",
       "      <td>1</td>\n",
       "      <td>South Carolina</td>\n",
       "      <td>4777576</td>\n",
       "      <td>5.06%</td>\n",
       "      <td>62.89%</td>\n",
       "      <td>28.75%</td>\n",
       "      <td>0.29%</td>\n",
       "      <td>1.25%</td>\n",
       "      <td>0.05%</td>\n",
       "      <td>46296.81</td>\n",
       "      <td>2322409M_2455167F</td>\n",
       "      <td>2322409M</td>\n",
       "      <td>2455167F</td>\n",
       "    </tr>\n",
       "    <tr>\n",
       "      <td>2</td>\n",
       "      <td>2</td>\n",
       "      <td>South Dakota</td>\n",
       "      <td>843190</td>\n",
       "      <td>3.24%</td>\n",
       "      <td>82.50%</td>\n",
       "      <td>1.42%</td>\n",
       "      <td>9.42%</td>\n",
       "      <td>1.02%</td>\n",
       "      <td>0.04%</td>\n",
       "      <td>51805.41</td>\n",
       "      <td>423477M_419713F</td>\n",
       "      <td>423477M</td>\n",
       "      <td>419713F</td>\n",
       "    </tr>\n",
       "    <tr>\n",
       "      <td>3</td>\n",
       "      <td>3</td>\n",
       "      <td>Tennessee</td>\n",
       "      <td>6499615</td>\n",
       "      <td>4.72%</td>\n",
       "      <td>73.49%</td>\n",
       "      <td>18.28%</td>\n",
       "      <td>0.23%</td>\n",
       "      <td>1.41%</td>\n",
       "      <td>0.04%</td>\n",
       "      <td>47328.08</td>\n",
       "      <td>3167756M_3331859F</td>\n",
       "      <td>3167756M</td>\n",
       "      <td>3331859F</td>\n",
       "    </tr>\n",
       "    <tr>\n",
       "      <td>4</td>\n",
       "      <td>4</td>\n",
       "      <td>Texas</td>\n",
       "      <td>26538614</td>\n",
       "      <td>38.05%</td>\n",
       "      <td>44.69%</td>\n",
       "      <td>11.65%</td>\n",
       "      <td>0.26%</td>\n",
       "      <td>3.67%</td>\n",
       "      <td>0.07%</td>\n",
       "      <td>55874.52</td>\n",
       "      <td>13171316M_13367298F</td>\n",
       "      <td>13171316M</td>\n",
       "      <td>13367298F</td>\n",
       "    </tr>\n",
       "  </tbody>\n",
       "</table>\n",
       "</div>"
      ],
      "text/plain": [
       "   Unnamed: 0           State  TotalPop Hispanic   White   Black Native  \\\n",
       "0           0    Rhode Island   1053661   13.36%  74.33%   5.68%  0.35%   \n",
       "1           1  South Carolina   4777576    5.06%  62.89%  28.75%  0.29%   \n",
       "2           2    South Dakota    843190    3.24%  82.50%   1.42%  9.42%   \n",
       "3           3       Tennessee   6499615    4.72%  73.49%  18.28%  0.23%   \n",
       "4           4           Texas  26538614   38.05%  44.69%  11.65%  0.26%   \n",
       "\n",
       "   Asian Pacific    Income            GenderPop        Men      Women  \n",
       "0  3.25%   0.04%  59125.27      510388M_543273F    510388M    543273F  \n",
       "1  1.25%   0.05%  46296.81    2322409M_2455167F   2322409M   2455167F  \n",
       "2  1.02%   0.04%  51805.41      423477M_419713F    423477M    419713F  \n",
       "3  1.41%   0.04%  47328.08    3167756M_3331859F   3167756M   3331859F  \n",
       "4  3.67%   0.07%  55874.52  13171316M_13367298F  13171316M  13367298F  "
      ]
     },
     "execution_count": 8,
     "metadata": {},
     "output_type": "execute_result"
    }
   ],
   "source": [
    "# Separate and create columns\n",
    "\n",
    "string_split = us_census.GenderPop.str.split(\"_\")\n",
    "\n",
    "us_census[\"Men\"] = string_split.str.get(0)\n",
    "us_census[\"Women\"] = string_split.str.get(1)\n",
    "us_census.head()"
   ]
  },
  {
   "cell_type": "markdown",
   "metadata": {},
   "source": [
    "7. Convert both of the columns into numerical datatypes.\n",
    "\n",
    "   There is still an `M` or an `F` character in each entry! We should remove those before we convert."
   ]
  },
  {
   "cell_type": "code",
   "execution_count": 9,
   "metadata": {},
   "outputs": [],
   "source": [
    "# Define Men and Women columns\n",
    "\n",
    "us_census.Men = pd.to_numeric(us_census.Men.str[:-1])\n",
    "us_census.Women = pd.to_numeric(us_census.Women.str[:-1])"
   ]
  },
  {
   "cell_type": "code",
   "execution_count": 10,
   "metadata": {},
   "outputs": [
    {
     "data": {
      "text/plain": [
       "Unnamed: 0      int64\n",
       "State          object\n",
       "TotalPop        int64\n",
       "Hispanic       object\n",
       "White          object\n",
       "Black          object\n",
       "Native         object\n",
       "Asian          object\n",
       "Pacific        object\n",
       "Income        float64\n",
       "GenderPop      object\n",
       "Men             int64\n",
       "Women         float64\n",
       "dtype: object"
      ]
     },
     "execution_count": 10,
     "metadata": {},
     "output_type": "execute_result"
    }
   ],
   "source": [
    "# Check dtypes to ensure Men and Women are numeric\n",
    "\n",
    "us_census.dtypes"
   ]
  },
  {
   "cell_type": "markdown",
   "metadata": {},
   "source": [
    "8. Now you should have the columns you need to make the graph and make sure your boss does not slam a ruler angrily on your desk because you've wasted your whole day cleaning your data with no results to show!\n",
    "\n",
    "   Use matplotlib to make a scatterplot!\n",
    "   \n",
    "   ```py\n",
    "   plt.scatter(the_women_column, the_income_column)\n",
    "   ```\n",
    "   \n",
    "   Remember to call `plt.show()` to see the graph!"
   ]
  },
  {
   "cell_type": "code",
   "execution_count": 11,
   "metadata": {},
   "outputs": [
    {
     "data": {
      "image/png": "[encoded data removed]",
      "text/plain": [
       "<Figure size 432x432 with 1 Axes>"
      ]
     },
     "metadata": {
      "needs_background": "light"
     },
     "output_type": "display_data"
    }
   ],
   "source": [
    "# Plot State Average Income vs. Number of Women\n",
    "\n",
    "plt.figure(figsize=(6,6))\n",
    "plt.scatter(us_census.Women, us_census.Income, color='firebrick')\n",
    "plt.xlabel(\"Number of Women\")\n",
    "plt.ylabel(\"State Average Income\")\n",
    "plt.title(\"State Average Income vs. Number of Women\", fontweight=\"bold\")\n",
    "plt.show()"
   ]
  },
  {
   "cell_type": "markdown",
   "metadata": {},
   "source": [
    "9. You want to double check your work. You know from experience that these monstrous csv files probably have `nan` values in them! Print out your column with the number of women per state to see.\n",
    "\n",
    "   We can fill in those `nan`s by using pandas' `.fillna()` function.\n",
    "   \n",
    "   You have the `TotalPop` per state, and you have the `Men` per state. As an estimate for the `nan` values in the `Women` column, you could use the `TotalPop` of that state minus the `Men` for that state.\n",
    "   \n",
    "   Print out the `Women` column after filling the `nan` values to see if it worked!"
   ]
  },
  {
   "cell_type": "code",
   "execution_count": 12,
   "metadata": {},
   "outputs": [
    {
     "name": "stdout",
     "output_type": "stream",
     "text": [
      "3\n"
     ]
    }
   ],
   "source": [
    "# Check for NaN\n",
    "\n",
    "print(us_census.Women.isna().sum())"
   ]
  },
  {
   "cell_type": "code",
   "execution_count": 13,
   "metadata": {},
   "outputs": [
    {
     "name": "stdout",
     "output_type": "stream",
     "text": [
      "0\n"
     ]
    }
   ],
   "source": [
    "# Fill Nan values with TotalPop-Men\n",
    "us_census = us_census.fillna(value={\"Women\": us_census.TotalPop-us_census.Men})\n",
    "\n",
    "# Check for NaN\n",
    "print(us_census.Women.isna().sum())"
   ]
  },
  {
   "cell_type": "markdown",
   "metadata": {},
   "source": [
    "10. We forgot to check for duplicates! Use `.duplicated()` on your `census` DataFrame to see if we have duplicate rows in there."
   ]
  },
  {
   "cell_type": "code",
   "execution_count": 14,
   "metadata": {},
   "outputs": [
    {
     "name": "stdout",
     "output_type": "stream",
     "text": [
      "(9, 13)\n"
     ]
    }
   ],
   "source": [
    "# Check for duplicates\n",
    "\n",
    "duplicates = us_census.duplicated(subset=[\"State\"])\n",
    "print(us_census[duplicates == True].shape)"
   ]
  },
  {
   "cell_type": "markdown",
   "metadata": {},
   "source": [
    "11. Drop those duplicates using the `.drop_duplicates()` function."
   ]
  },
  {
   "cell_type": "code",
   "execution_count": 15,
   "metadata": {},
   "outputs": [],
   "source": [
    "us_census = us_census.drop_duplicates(subset=[\"State\"])"
   ]
  },
  {
   "cell_type": "markdown",
   "metadata": {},
   "source": [
    "12. Make the scatterplot again. Now, it should be perfect! Your job is secure, for now."
   ]
  },
  {
   "cell_type": "code",
   "execution_count": 16,
   "metadata": {},
   "outputs": [
    {
     "data": {
      "image/png": "[encoded data removed]",
      "text/plain": [
       "<Figure size 432x432 with 1 Axes>"
      ]
     },
     "metadata": {
      "needs_background": "light"
     },
     "output_type": "display_data"
    }
   ],
   "source": [
    "# Plot State Average Income vs. Number of Women\n",
    "\n",
    "plt.figure(figsize=(6,6))\n",
    "\n",
    "plt.scatter(us_census.Women, us_census.Income, color='firebrick')\n",
    "plt.xlabel(\"Number of Women\")\n",
    "plt.ylabel(\"State Average Income\")\n",
    "plt.title(\"State Average Income vs. Number of Women\", fontweight=\"bold\")\n",
    "\n",
    "plt.show()"
   ]
  },
  {
   "cell_type": "markdown",
   "metadata": {},
   "source": [
    "## Histogram of Races"
   ]
  },
  {
   "cell_type": "markdown",
   "metadata": {},
   "source": [
    "13. Now your boss wants you to make a bunch of histograms out of the race data that you have. Look at the `.columns` again to see what the race categories are."
   ]
  },
  {
   "cell_type": "code",
   "execution_count": 17,
   "metadata": {},
   "outputs": [],
   "source": [
    "# Wrangle race columns\n",
    "\n",
    "race_columns = [\"Hispanic\", \"White\", \"Black\", \"Native\", \"Asian\", \"Pacific\"]\n",
    "\n",
    "for column in race_columns:\n",
    "    us_census[column] = pd.to_numeric(us_census[column].replace('[%]', '', regex=True))"
   ]
  },
  {
   "cell_type": "markdown",
   "metadata": {},
   "source": [
    "14. Try to make a histogram for each one!\n",
    "\n",
    "    You will have to get the columns into the numerical format, and those percentage signs will have to go.\n",
    "    \n",
    "    Don't forget to fill the `nan` values with something that makes sense! You probably dropped the duplicate rows when making your last graph, but it couldn't hurt to check for duplicates again."
   ]
  },
  {
   "cell_type": "code",
   "execution_count": 18,
   "metadata": {},
   "outputs": [
    {
     "name": "stdout",
     "output_type": "stream",
     "text": [
      "Hispanic : 0\n",
      "White : 0\n",
      "Black : 0\n",
      "Native : 0\n",
      "Asian : 0\n",
      "Pacific : 4\n"
     ]
    }
   ],
   "source": [
    "# Find NaN values\n",
    "for column in race_columns:\n",
    "    print(column, \":\", us_census[column].isna().sum())"
   ]
  },
  {
   "cell_type": "code",
   "execution_count": 19,
   "metadata": {},
   "outputs": [
    {
     "name": "stdout",
     "output_type": "stream",
     "text": [
      "Hispanic : 0\n",
      "White : 0\n",
      "Black : 0\n",
      "Native : 0\n",
      "Asian : 0\n",
      "Pacific : 0\n"
     ]
    }
   ],
   "source": [
    "# Fill NaN values with median column value\n",
    "us_census = us_census.fillna(value={'Pacific': us_census.Pacific.median()})\n",
    "\n",
    "for column in race_columns:\n",
    "    print(column, \":\", us_census[column].isna().sum())"
   ]
  },
  {
   "cell_type": "code",
   "execution_count": 20,
   "metadata": {},
   "outputs": [
    {
     "data": {
      "image/png": "[encoded data removed]",
      "text/plain": [
       "<Figure size 1080x576 with 6 Axes>"
      ]
     },
     "metadata": {
      "needs_background": "light"
     },
     "output_type": "display_data"
    }
   ],
   "source": [
    "# Plot histograms\n",
    "\n",
    "plt.figure(figsize=(15,8))\n",
    "\n",
    "for i in range(len(race_columns)):\n",
    "\n",
    "    plt.subplot(2, 3, i+1)\n",
    "    plt.hist(us_census[race_columns[i]], edgecolor='black', bins=20, color='firebrick')\n",
    "\n",
    "    plt.title(\"State % of {} People\".format(race_columns[i]), fontweight=\"bold\")\n",
    "\n",
    "plt.show()"
   ]
  },
  {
   "cell_type": "markdown",
   "metadata": {},
   "source": [
    "## Get Creative"
   ]
  },
  {
   "cell_type": "markdown",
   "metadata": {},
   "source": [
    "15. Phew. You've definitely impressed your boss on your first day of work.\n",
    "\n",
    "    But is there a way you really convey the power of pandas and Python over the drudgery of `csv` and Excel?\n",
    "    \n",
    "    Try to make some more interesting graphs to show your boss, and the world! You may need to clean the data even more to do it, or the cleaning you have already done may give you the ease of manipulation you've been searching for."
   ]
  },
  {
   "cell_type": "code",
   "execution_count": 21,
   "metadata": {},
   "outputs": [
    {
     "data": {
      "image/png": "[encoded data removed]",
      "text/plain": [
       "<Figure size 1008x432 with 2 Axes>"
      ]
     },
     "metadata": {
      "needs_background": "light"
     },
     "output_type": "display_data"
    }
   ],
   "source": [
    "# Plot State Average Income vs. Percent Women\n",
    "\n",
    "us_census[\"PercentWomen\"] = (us_census.Women/us_census.TotalPop)*100\n",
    "\n",
    "plt.figure(figsize=(14,6))\n",
    "\n",
    "plt.subplot(121)\n",
    "plt.scatter(us_census.Women, us_census.Income, color='firebrick')\n",
    "plt.xlabel(\"Number of Women\")\n",
    "plt.ylabel(\"State Average Income\")\n",
    "plt.title(\"State Average Income vs. Number of Women\", fontweight=\"bold\")\n",
    "\n",
    "plt.subplot(122)\n",
    "plt.scatter(us_census.PercentWomen, us_census.Income, color='firebrick')\n",
    "plt.xlabel(\"Percent of Women\")\n",
    "plt.ylabel(\"State Average Income\")\n",
    "plt.title(\"State Average Income vs. Percent of Women\", fontweight=\"bold\")\n",
    "\n",
    "plt.show()"
   ]
  },
  {
   "cell_type": "markdown",
   "metadata": {},
   "source": [
    "There seems to be little correlation between the state average income and either the number of women or the percentage of women. While outlying points make my eye and brain want to see linear trends, the vast majority of points form a nebulous cluster and do not reveal any linear correlation."
   ]
  },
  {
   "cell_type": "code",
   "execution_count": 25,
   "metadata": {},
   "outputs": [],
   "source": [
    "# Puerto Rico has a particularly low average income.\n",
    "# Let's remove this point and revisualize.\n",
    "\n",
    "i = us_census[us_census.Income < 30000].index\n",
    "us_census = us_census.drop(i)"
   ]
  },
  {
   "cell_type": "code",
   "execution_count": 31,
   "metadata": {},
   "outputs": [
    {
     "data": {
      "image/png": "[encoded data removed]",
      "text/plain": [
       "<Figure size 1008x432 with 2 Axes>"
      ]
     },
     "metadata": {
      "needs_background": "light"
     },
     "output_type": "display_data"
    }
   ],
   "source": [
    "# Plot State Average Income vs. Number / Percent of Women\n",
    "# with Puerto Rico removed.\n",
    "\n",
    "plt.figure(figsize=(14,6))\n",
    "\n",
    "plt.subplot(121)\n",
    "plt.scatter(us_census.Women, us_census.Income, color='firebrick')\n",
    "plt.xlabel(\"Number of Women\")\n",
    "plt.ylabel(\"State Average Income\")\n",
    "plt.title(\"State Average Income vs. Number of Women\", fontweight=\"bold\")\n",
    "\n",
    "plt.subplot(122)\n",
    "plt.scatter(us_census.PercentWomen, us_census.Income, color='firebrick')\n",
    "plt.xlabel(\"Percent of Women\")\n",
    "plt.ylabel(\"State Average Income\")\n",
    "plt.title(\"State Average Income vs. Percent of Women\", fontweight=\"bold\")\n",
    "\n",
    "plt.show()"
   ]
  },
  {
   "cell_type": "markdown",
   "metadata": {},
   "source": [
    "These plots show even more definitively that there is no correlation between state average income and number or percentage of women."
   ]
  },
  {
   "cell_type": "code",
   "execution_count": null,
   "metadata": {},
   "outputs": [],
   "source": []
  }
 ],
 "metadata": {
  "kernelspec": {
   "display_name": "./anaconda3/share/jupyter/kernels/python3/",
   "language": "python",
   "name": "python3"
  },
  "language_info": {
   "codemirror_mode": {
    "name": "ipython",
    "version": 3
   },
   "file_extension": ".py",
   "mimetype": "text/x-python",
   "name": "python",
   "nbconvert_exporter": "python",
   "pygments_lexer": "ipython3",
   "version": "3.7.4"
  }
 },
 "nbformat": 4,
 "nbformat_minor": 2
}
